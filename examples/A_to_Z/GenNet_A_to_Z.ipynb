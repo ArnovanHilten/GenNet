{
  "cells": [
    {
      "cell_type": "markdown",
      "metadata": {
        "id": "view-in-github",
        "colab_type": "text"
      },
      "source": [
        "<a href=\"https://colab.research.google.com/github/ArnovanHilten/GenNet/blob/dev/examples/A_to_Z/GenNet_A_to_Z.ipynb\" target=\"_parent\"><img src=\"https://colab.research.google.com/assets/colab-badge.svg\" alt=\"Open In Colab\"/></a>"
      ]
    },
    {
      "cell_type": "markdown",
      "source": [
        "# GenNet: Framework for Interpretable Neural Networks for Genetics\n",
        "\n",
        "In this network we show all steps for using [GenNet](https://github.com/ArnovanHilten/GenNet).\n",
        "\n",
        "\n",
        "\n",
        "1.   Installing GenNet\n",
        "2.   Test GenNet Instalation with a quick run\n",
        "3.   GenNet: from Plink to Prediction\n",
        "      1. Converting Plink or VCF files\n",
        "      2. Creating the network\n",
        "      3. Running the network\n",
        "      4. Plotting the results\n",
        "\n",
        "\n",
        "\n",
        "\n",
        "\n",
        "\n",
        "**To start the tutorial:**\n",
        "Click `file > Save a copy` in drive to save a copy in your own drive for full permisison."
      ],
      "metadata": {
        "id": "1QIIHVLbrOHV"
      }
    },
    {
      "cell_type": "markdown",
      "metadata": {
        "id": "u0zNE8cvnaBp"
      },
      "source": [
        "## Installing GenNet"
      ]
    },
    {
      "cell_type": "markdown",
      "source": [
        "All comments cells that open with **%%bash** are inputs for the command line.\n",
        "\n",
        "The requirements for GenNet can be found in the README of the github: https://github.com/ArnovanHilten/GenNet\n",
        "\n",
        "**Note:** GenNet can run on CPU and GPU. If you want to use GenNet with your GPU you need to ensure that you have CUDA installed that works with the tensorflow version."
      ],
      "metadata": {
        "id": "hwVxfoX_n4Ky"
      }
    },
    {
      "cell_type": "code",
      "execution_count": 1,
      "metadata": {
        "colab": {
          "base_uri": "https://localhost:8080/"
        },
        "id": "Bsr7IHGEl9M_",
        "outputId": "ba9e49d8-6e6b-4a98-f4da-e9000079c1d4"
      },
      "outputs": [
        {
          "output_type": "stream",
          "name": "stderr",
          "text": [
            "fatal: destination path 'GenNet' already exists and is not an empty directory.\n"
          ]
        }
      ],
      "source": [
        "%%bash\n",
        "git clone -b dev https://github.com/ArnovanHilten/GenNet.git  # Cloning the repositorie"
      ]
    },
    {
      "cell_type": "markdown",
      "source": [
        "Move into the GenNet directory"
      ],
      "metadata": {
        "id": "L8sqIS_zygOc"
      }
    },
    {
      "cell_type": "code",
      "source": [
        "%cd GenNet"
      ],
      "metadata": {
        "colab": {
          "base_uri": "https://localhost:8080/"
        },
        "id": "Mj1V33BIyY1L",
        "outputId": "08b5d8f6-c6d5-4ea9-f69c-462624bf1217"
      },
      "execution_count": 2,
      "outputs": [
        {
          "output_type": "stream",
          "name": "stdout",
          "text": [
            "/content/GenNet\n"
          ]
        }
      ]
    },
    {
      "cell_type": "markdown",
      "source": [
        "Install the requirements"
      ],
      "metadata": {
        "id": "S-Gmfen7yjj-"
      }
    },
    {
      "cell_type": "code",
      "execution_count": 3,
      "metadata": {
        "colab": {
          "base_uri": "https://localhost:8080/"
        },
        "id": "HgOeF5vUmEe9",
        "outputId": "f5c1193a-13ac-4b60-fb58-e29b56c4cb0c",
        "cellView": "code",
        "collapsed": true
      },
      "outputs": [
        {
          "output_type": "stream",
          "name": "stdout",
          "text": [
            "Looking in indexes: https://pypi.org/simple, https://us-python.pkg.dev/colab-wheels/public/simple/\n",
            "Requirement already satisfied: pip in /usr/local/lib/python3.7/dist-packages (22.1.2)\n",
            "Looking in indexes: https://pypi.org/simple, https://us-python.pkg.dev/colab-wheels/public/simple/\n",
            "Requirement already satisfied: h5py>=2.10.0 in /usr/local/lib/python3.7/dist-packages (from -r requirements_GenNet.txt (line 1)) (2.10.0)\n",
            "Requirement already satisfied: joblib>=0.16.0 in /usr/local/lib/python3.7/dist-packages (from -r requirements_GenNet.txt (line 2)) (1.1.0)\n",
            "Requirement already satisfied: Markdown>=3.2.1 in /usr/local/lib/python3.7/dist-packages (from -r requirements_GenNet.txt (line 3)) (3.3.7)\n",
            "Requirement already satisfied: matplotlib>=3.3.2 in /usr/local/lib/python3.7/dist-packages (from -r requirements_GenNet.txt (line 4)) (3.5.2)\n",
            "Requirement already satisfied: jupyter>=1.0.0 in /usr/local/lib/python3.7/dist-packages (from -r requirements_GenNet.txt (line 5)) (1.0.0)\n",
            "Requirement already satisfied: numpy>=1.16.0 in /usr/local/lib/python3.7/dist-packages (from -r requirements_GenNet.txt (line 6)) (1.21.6)\n",
            "Requirement already satisfied: pandas>=0.25.3 in /usr/local/lib/python3.7/dist-packages (from -r requirements_GenNet.txt (line 7)) (1.3.5)\n",
            "Requirement already satisfied: Pillow>=7.2.0 in /usr/local/lib/python3.7/dist-packages (from -r requirements_GenNet.txt (line 8)) (9.1.1)\n",
            "Requirement already satisfied: plotly>=4.12.0 in /usr/local/lib/python3.7/dist-packages (from -r requirements_GenNet.txt (line 9)) (5.5.0)\n",
            "Requirement already satisfied: pyparsing>=2.4.7 in /usr/local/lib/python3.7/dist-packages (from -r requirements_GenNet.txt (line 10)) (3.0.9)\n",
            "Requirement already satisfied: scikit-learn>=0.23.2 in /usr/local/lib/python3.7/dist-packages (from -r requirements_GenNet.txt (line 11)) (1.0.2)\n",
            "Requirement already satisfied: scipy>=1.4.1 in /usr/local/lib/python3.7/dist-packages (from -r requirements_GenNet.txt (line 12)) (1.4.1)\n",
            "Requirement already satisfied: seaborn>=0.10.1 in /usr/local/lib/python3.7/dist-packages (from -r requirements_GenNet.txt (line 13)) (0.11.2)\n",
            "Requirement already satisfied: sklearn>=0.0 in /usr/local/lib/python3.7/dist-packages (from -r requirements_GenNet.txt (line 14)) (0.0)\n",
            "Requirement already satisfied: tables>=3.6.1 in /usr/local/lib/python3.7/dist-packages (from -r requirements_GenNet.txt (line 15)) (3.7.0)\n",
            "Requirement already satisfied: tqdm>=4.49.0 in /usr/local/lib/python3.7/dist-packages (from -r requirements_GenNet.txt (line 16)) (4.64.0)\n",
            "Requirement already satisfied: zipp>=3.1.0 in /usr/local/lib/python3.7/dist-packages (from -r requirements_GenNet.txt (line 17)) (3.8.0)\n",
            "Requirement already satisfied: psutil in /usr/local/lib/python3.7/dist-packages (from -r requirements_GenNet.txt (line 18)) (5.4.8)\n",
            "Requirement already satisfied: kaleido in /usr/local/lib/python3.7/dist-packages (from -r requirements_GenNet.txt (line 19)) (0.2.1)\n",
            "Requirement already satisfied: tensorflow==2.2.0 in /usr/local/lib/python3.7/dist-packages (from -r requirements_GenNet.txt (line 20)) (2.2.0)\n",
            "Requirement already satisfied: absl-py>=0.7.0 in /usr/local/lib/python3.7/dist-packages (from tensorflow==2.2.0->-r requirements_GenNet.txt (line 20)) (1.0.0)\n",
            "Requirement already satisfied: keras-preprocessing>=1.1.0 in /usr/local/lib/python3.7/dist-packages (from tensorflow==2.2.0->-r requirements_GenNet.txt (line 20)) (1.1.2)\n",
            "Requirement already satisfied: grpcio>=1.8.6 in /usr/local/lib/python3.7/dist-packages (from tensorflow==2.2.0->-r requirements_GenNet.txt (line 20)) (1.46.3)\n",
            "Requirement already satisfied: astunparse==1.6.3 in /usr/local/lib/python3.7/dist-packages (from tensorflow==2.2.0->-r requirements_GenNet.txt (line 20)) (1.6.3)\n",
            "Requirement already satisfied: google-pasta>=0.1.8 in /usr/local/lib/python3.7/dist-packages (from tensorflow==2.2.0->-r requirements_GenNet.txt (line 20)) (0.2.0)\n",
            "Requirement already satisfied: tensorflow-estimator<2.3.0,>=2.2.0 in /usr/local/lib/python3.7/dist-packages (from tensorflow==2.2.0->-r requirements_GenNet.txt (line 20)) (2.2.0)\n",
            "Requirement already satisfied: wheel>=0.26 in /usr/local/lib/python3.7/dist-packages (from tensorflow==2.2.0->-r requirements_GenNet.txt (line 20)) (0.37.1)\n",
            "Requirement already satisfied: opt-einsum>=2.3.2 in /usr/local/lib/python3.7/dist-packages (from tensorflow==2.2.0->-r requirements_GenNet.txt (line 20)) (3.3.0)\n",
            "Requirement already satisfied: protobuf>=3.8.0 in /usr/local/lib/python3.7/dist-packages (from tensorflow==2.2.0->-r requirements_GenNet.txt (line 20)) (3.17.3)\n",
            "Requirement already satisfied: tensorboard<2.3.0,>=2.2.0 in /usr/local/lib/python3.7/dist-packages (from tensorflow==2.2.0->-r requirements_GenNet.txt (line 20)) (2.2.2)\n",
            "Requirement already satisfied: wrapt>=1.11.1 in /usr/local/lib/python3.7/dist-packages (from tensorflow==2.2.0->-r requirements_GenNet.txt (line 20)) (1.14.1)\n",
            "Requirement already satisfied: gast==0.3.3 in /usr/local/lib/python3.7/dist-packages (from tensorflow==2.2.0->-r requirements_GenNet.txt (line 20)) (0.3.3)\n",
            "Requirement already satisfied: six>=1.12.0 in /usr/local/lib/python3.7/dist-packages (from tensorflow==2.2.0->-r requirements_GenNet.txt (line 20)) (1.15.0)\n",
            "Requirement already satisfied: termcolor>=1.1.0 in /usr/local/lib/python3.7/dist-packages (from tensorflow==2.2.0->-r requirements_GenNet.txt (line 20)) (1.1.0)\n",
            "Requirement already satisfied: importlib-metadata>=4.4 in /usr/local/lib/python3.7/dist-packages (from Markdown>=3.2.1->-r requirements_GenNet.txt (line 3)) (4.11.4)\n",
            "Requirement already satisfied: fonttools>=4.22.0 in /usr/local/lib/python3.7/dist-packages (from matplotlib>=3.3.2->-r requirements_GenNet.txt (line 4)) (4.33.3)\n",
            "Requirement already satisfied: cycler>=0.10 in /usr/local/lib/python3.7/dist-packages (from matplotlib>=3.3.2->-r requirements_GenNet.txt (line 4)) (0.11.0)\n",
            "Requirement already satisfied: kiwisolver>=1.0.1 in /usr/local/lib/python3.7/dist-packages (from matplotlib>=3.3.2->-r requirements_GenNet.txt (line 4)) (1.4.2)\n",
            "Requirement already satisfied: packaging>=20.0 in /usr/local/lib/python3.7/dist-packages (from matplotlib>=3.3.2->-r requirements_GenNet.txt (line 4)) (21.3)\n",
            "Requirement already satisfied: python-dateutil>=2.7 in /usr/local/lib/python3.7/dist-packages (from matplotlib>=3.3.2->-r requirements_GenNet.txt (line 4)) (2.8.2)\n",
            "Requirement already satisfied: notebook in /usr/local/lib/python3.7/dist-packages (from jupyter>=1.0.0->-r requirements_GenNet.txt (line 5)) (5.3.1)\n",
            "Requirement already satisfied: jupyter-console in /usr/local/lib/python3.7/dist-packages (from jupyter>=1.0.0->-r requirements_GenNet.txt (line 5)) (5.2.0)\n",
            "Requirement already satisfied: ipykernel in /usr/local/lib/python3.7/dist-packages (from jupyter>=1.0.0->-r requirements_GenNet.txt (line 5)) (4.10.1)\n",
            "Requirement already satisfied: ipywidgets in /usr/local/lib/python3.7/dist-packages (from jupyter>=1.0.0->-r requirements_GenNet.txt (line 5)) (7.7.0)\n",
            "Requirement already satisfied: nbconvert in /usr/local/lib/python3.7/dist-packages (from jupyter>=1.0.0->-r requirements_GenNet.txt (line 5)) (5.6.1)\n",
            "Requirement already satisfied: qtconsole in /usr/local/lib/python3.7/dist-packages (from jupyter>=1.0.0->-r requirements_GenNet.txt (line 5)) (5.3.0)\n",
            "Requirement already satisfied: pytz>=2017.3 in /usr/local/lib/python3.7/dist-packages (from pandas>=0.25.3->-r requirements_GenNet.txt (line 7)) (2022.1)\n",
            "Requirement already satisfied: tenacity>=6.2.0 in /usr/local/lib/python3.7/dist-packages (from plotly>=4.12.0->-r requirements_GenNet.txt (line 9)) (8.0.1)\n",
            "Requirement already satisfied: threadpoolctl>=2.0.0 in /usr/local/lib/python3.7/dist-packages (from scikit-learn>=0.23.2->-r requirements_GenNet.txt (line 11)) (3.1.0)\n",
            "Requirement already satisfied: numexpr>=2.6.2 in /usr/local/lib/python3.7/dist-packages (from tables>=3.6.1->-r requirements_GenNet.txt (line 15)) (2.8.1)\n",
            "Requirement already satisfied: typing-extensions>=3.6.4 in /usr/local/lib/python3.7/dist-packages (from importlib-metadata>=4.4->Markdown>=3.2.1->-r requirements_GenNet.txt (line 3)) (4.2.0)\n",
            "Requirement already satisfied: requests<3,>=2.21.0 in /usr/local/lib/python3.7/dist-packages (from tensorboard<2.3.0,>=2.2.0->tensorflow==2.2.0->-r requirements_GenNet.txt (line 20)) (2.23.0)\n",
            "Requirement already satisfied: tensorboard-plugin-wit>=1.6.0 in /usr/local/lib/python3.7/dist-packages (from tensorboard<2.3.0,>=2.2.0->tensorflow==2.2.0->-r requirements_GenNet.txt (line 20)) (1.8.1)\n",
            "Requirement already satisfied: setuptools>=41.0.0 in /usr/local/lib/python3.7/dist-packages (from tensorboard<2.3.0,>=2.2.0->tensorflow==2.2.0->-r requirements_GenNet.txt (line 20)) (57.4.0)\n",
            "Requirement already satisfied: google-auth<2,>=1.6.3 in /usr/local/lib/python3.7/dist-packages (from tensorboard<2.3.0,>=2.2.0->tensorflow==2.2.0->-r requirements_GenNet.txt (line 20)) (1.35.0)\n",
            "Requirement already satisfied: werkzeug>=0.11.15 in /usr/local/lib/python3.7/dist-packages (from tensorboard<2.3.0,>=2.2.0->tensorflow==2.2.0->-r requirements_GenNet.txt (line 20)) (1.0.1)\n",
            "Requirement already satisfied: google-auth-oauthlib<0.5,>=0.4.1 in /usr/local/lib/python3.7/dist-packages (from tensorboard<2.3.0,>=2.2.0->tensorflow==2.2.0->-r requirements_GenNet.txt (line 20)) (0.4.6)\n",
            "Requirement already satisfied: jupyter-client in /usr/local/lib/python3.7/dist-packages (from ipykernel->jupyter>=1.0.0->-r requirements_GenNet.txt (line 5)) (5.3.5)\n",
            "Requirement already satisfied: tornado>=4.0 in /usr/local/lib/python3.7/dist-packages (from ipykernel->jupyter>=1.0.0->-r requirements_GenNet.txt (line 5)) (5.1.1)\n",
            "Requirement already satisfied: traitlets>=4.1.0 in /usr/local/lib/python3.7/dist-packages (from ipykernel->jupyter>=1.0.0->-r requirements_GenNet.txt (line 5)) (5.1.1)\n",
            "Requirement already satisfied: ipython>=4.0.0 in /usr/local/lib/python3.7/dist-packages (from ipykernel->jupyter>=1.0.0->-r requirements_GenNet.txt (line 5)) (5.5.0)\n",
            "Requirement already satisfied: ipython-genutils~=0.2.0 in /usr/local/lib/python3.7/dist-packages (from ipywidgets->jupyter>=1.0.0->-r requirements_GenNet.txt (line 5)) (0.2.0)\n",
            "Requirement already satisfied: nbformat>=4.2.0 in /usr/local/lib/python3.7/dist-packages (from ipywidgets->jupyter>=1.0.0->-r requirements_GenNet.txt (line 5)) (5.4.0)\n",
            "Requirement already satisfied: widgetsnbextension~=3.6.0 in /usr/local/lib/python3.7/dist-packages (from ipywidgets->jupyter>=1.0.0->-r requirements_GenNet.txt (line 5)) (3.6.0)\n",
            "Requirement already satisfied: jupyterlab-widgets>=1.0.0 in /usr/local/lib/python3.7/dist-packages (from ipywidgets->jupyter>=1.0.0->-r requirements_GenNet.txt (line 5)) (1.1.0)\n",
            "Requirement already satisfied: prompt-toolkit<2.0.0,>=1.0.0 in /usr/local/lib/python3.7/dist-packages (from jupyter-console->jupyter>=1.0.0->-r requirements_GenNet.txt (line 5)) (1.0.18)\n",
            "Requirement already satisfied: pygments in /usr/local/lib/python3.7/dist-packages (from jupyter-console->jupyter>=1.0.0->-r requirements_GenNet.txt (line 5)) (2.6.1)\n",
            "Requirement already satisfied: bleach in /usr/local/lib/python3.7/dist-packages (from nbconvert->jupyter>=1.0.0->-r requirements_GenNet.txt (line 5)) (5.0.0)\n",
            "Requirement already satisfied: jupyter-core in /usr/local/lib/python3.7/dist-packages (from nbconvert->jupyter>=1.0.0->-r requirements_GenNet.txt (line 5)) (4.10.0)\n",
            "Requirement already satisfied: entrypoints>=0.2.2 in /usr/local/lib/python3.7/dist-packages (from nbconvert->jupyter>=1.0.0->-r requirements_GenNet.txt (line 5)) (0.4)\n",
            "Requirement already satisfied: mistune<2,>=0.8.1 in /usr/local/lib/python3.7/dist-packages (from nbconvert->jupyter>=1.0.0->-r requirements_GenNet.txt (line 5)) (0.8.4)\n",
            "Requirement already satisfied: testpath in /usr/local/lib/python3.7/dist-packages (from nbconvert->jupyter>=1.0.0->-r requirements_GenNet.txt (line 5)) (0.6.0)\n",
            "Requirement already satisfied: jinja2>=2.4 in /usr/local/lib/python3.7/dist-packages (from nbconvert->jupyter>=1.0.0->-r requirements_GenNet.txt (line 5)) (2.11.3)\n",
            "Requirement already satisfied: pandocfilters>=1.4.1 in /usr/local/lib/python3.7/dist-packages (from nbconvert->jupyter>=1.0.0->-r requirements_GenNet.txt (line 5)) (1.5.0)\n",
            "Requirement already satisfied: defusedxml in /usr/local/lib/python3.7/dist-packages (from nbconvert->jupyter>=1.0.0->-r requirements_GenNet.txt (line 5)) (0.7.1)\n",
            "Requirement already satisfied: Send2Trash in /usr/local/lib/python3.7/dist-packages (from notebook->jupyter>=1.0.0->-r requirements_GenNet.txt (line 5)) (1.8.0)\n",
            "Requirement already satisfied: terminado>=0.8.1 in /usr/local/lib/python3.7/dist-packages (from notebook->jupyter>=1.0.0->-r requirements_GenNet.txt (line 5)) (0.13.3)\n",
            "Requirement already satisfied: pyzmq>=17.1 in /usr/local/lib/python3.7/dist-packages (from qtconsole->jupyter>=1.0.0->-r requirements_GenNet.txt (line 5)) (23.0.0)\n",
            "Requirement already satisfied: qtpy>=2.0.1 in /usr/local/lib/python3.7/dist-packages (from qtconsole->jupyter>=1.0.0->-r requirements_GenNet.txt (line 5)) (2.1.0)\n",
            "Requirement already satisfied: pyasn1-modules>=0.2.1 in /usr/local/lib/python3.7/dist-packages (from google-auth<2,>=1.6.3->tensorboard<2.3.0,>=2.2.0->tensorflow==2.2.0->-r requirements_GenNet.txt (line 20)) (0.2.8)\n",
            "Requirement already satisfied: cachetools<5.0,>=2.0.0 in /usr/local/lib/python3.7/dist-packages (from google-auth<2,>=1.6.3->tensorboard<2.3.0,>=2.2.0->tensorflow==2.2.0->-r requirements_GenNet.txt (line 20)) (4.2.4)\n",
            "Requirement already satisfied: rsa<5,>=3.1.4 in /usr/local/lib/python3.7/dist-packages (from google-auth<2,>=1.6.3->tensorboard<2.3.0,>=2.2.0->tensorflow==2.2.0->-r requirements_GenNet.txt (line 20)) (4.8)\n",
            "Requirement already satisfied: requests-oauthlib>=0.7.0 in /usr/local/lib/python3.7/dist-packages (from google-auth-oauthlib<0.5,>=0.4.1->tensorboard<2.3.0,>=2.2.0->tensorflow==2.2.0->-r requirements_GenNet.txt (line 20)) (1.3.1)\n",
            "Requirement already satisfied: simplegeneric>0.8 in /usr/local/lib/python3.7/dist-packages (from ipython>=4.0.0->ipykernel->jupyter>=1.0.0->-r requirements_GenNet.txt (line 5)) (0.8.1)\n",
            "Requirement already satisfied: pexpect in /usr/local/lib/python3.7/dist-packages (from ipython>=4.0.0->ipykernel->jupyter>=1.0.0->-r requirements_GenNet.txt (line 5)) (4.8.0)\n",
            "Requirement already satisfied: pickleshare in /usr/local/lib/python3.7/dist-packages (from ipython>=4.0.0->ipykernel->jupyter>=1.0.0->-r requirements_GenNet.txt (line 5)) (0.7.5)\n",
            "Requirement already satisfied: decorator in /usr/local/lib/python3.7/dist-packages (from ipython>=4.0.0->ipykernel->jupyter>=1.0.0->-r requirements_GenNet.txt (line 5)) (4.4.2)\n",
            "Requirement already satisfied: MarkupSafe>=0.23 in /usr/local/lib/python3.7/dist-packages (from jinja2>=2.4->nbconvert->jupyter>=1.0.0->-r requirements_GenNet.txt (line 5)) (2.0.1)\n",
            "Requirement already satisfied: jsonschema>=2.6 in /usr/local/lib/python3.7/dist-packages (from nbformat>=4.2.0->ipywidgets->jupyter>=1.0.0->-r requirements_GenNet.txt (line 5)) (4.3.3)\n",
            "Requirement already satisfied: fastjsonschema in /usr/local/lib/python3.7/dist-packages (from nbformat>=4.2.0->ipywidgets->jupyter>=1.0.0->-r requirements_GenNet.txt (line 5)) (2.15.3)\n",
            "Requirement already satisfied: wcwidth in /usr/local/lib/python3.7/dist-packages (from prompt-toolkit<2.0.0,>=1.0.0->jupyter-console->jupyter>=1.0.0->-r requirements_GenNet.txt (line 5)) (0.2.5)\n",
            "Requirement already satisfied: idna<3,>=2.5 in /usr/local/lib/python3.7/dist-packages (from requests<3,>=2.21.0->tensorboard<2.3.0,>=2.2.0->tensorflow==2.2.0->-r requirements_GenNet.txt (line 20)) (2.10)\n",
            "Requirement already satisfied: urllib3!=1.25.0,!=1.25.1,<1.26,>=1.21.1 in /usr/local/lib/python3.7/dist-packages (from requests<3,>=2.21.0->tensorboard<2.3.0,>=2.2.0->tensorflow==2.2.0->-r requirements_GenNet.txt (line 20)) (1.24.3)\n",
            "Requirement already satisfied: certifi>=2017.4.17 in /usr/local/lib/python3.7/dist-packages (from requests<3,>=2.21.0->tensorboard<2.3.0,>=2.2.0->tensorflow==2.2.0->-r requirements_GenNet.txt (line 20)) (2022.5.18.1)\n",
            "Requirement already satisfied: chardet<4,>=3.0.2 in /usr/local/lib/python3.7/dist-packages (from requests<3,>=2.21.0->tensorboard<2.3.0,>=2.2.0->tensorflow==2.2.0->-r requirements_GenNet.txt (line 20)) (3.0.4)\n",
            "Requirement already satisfied: ptyprocess in /usr/local/lib/python3.7/dist-packages (from terminado>=0.8.1->notebook->jupyter>=1.0.0->-r requirements_GenNet.txt (line 5)) (0.7.0)\n",
            "Requirement already satisfied: webencodings in /usr/local/lib/python3.7/dist-packages (from bleach->nbconvert->jupyter>=1.0.0->-r requirements_GenNet.txt (line 5)) (0.5.1)\n",
            "Requirement already satisfied: pyrsistent!=0.17.0,!=0.17.1,!=0.17.2,>=0.14.0 in /usr/local/lib/python3.7/dist-packages (from jsonschema>=2.6->nbformat>=4.2.0->ipywidgets->jupyter>=1.0.0->-r requirements_GenNet.txt (line 5)) (0.18.1)\n",
            "Requirement already satisfied: importlib-resources>=1.4.0 in /usr/local/lib/python3.7/dist-packages (from jsonschema>=2.6->nbformat>=4.2.0->ipywidgets->jupyter>=1.0.0->-r requirements_GenNet.txt (line 5)) (5.7.1)\n",
            "Requirement already satisfied: attrs>=17.4.0 in /usr/local/lib/python3.7/dist-packages (from jsonschema>=2.6->nbformat>=4.2.0->ipywidgets->jupyter>=1.0.0->-r requirements_GenNet.txt (line 5)) (21.4.0)\n",
            "Requirement already satisfied: pyasn1<0.5.0,>=0.4.6 in /usr/local/lib/python3.7/dist-packages (from pyasn1-modules>=0.2.1->google-auth<2,>=1.6.3->tensorboard<2.3.0,>=2.2.0->tensorflow==2.2.0->-r requirements_GenNet.txt (line 20)) (0.4.8)\n",
            "Requirement already satisfied: oauthlib>=3.0.0 in /usr/local/lib/python3.7/dist-packages (from requests-oauthlib>=0.7.0->google-auth-oauthlib<0.5,>=0.4.1->tensorboard<2.3.0,>=2.2.0->tensorflow==2.2.0->-r requirements_GenNet.txt (line 20)) (3.2.0)\n"
          ]
        },
        {
          "output_type": "stream",
          "name": "stderr",
          "text": [
            "WARNING: Running pip as the 'root' user can result in broken permissions and conflicting behaviour with the system package manager. It is recommended to use a virtual environment instead: https://pip.pypa.io/warnings/venv\n",
            "WARNING: Running pip as the 'root' user can result in broken permissions and conflicting behaviour with the system package manager. It is recommended to use a virtual environment instead: https://pip.pypa.io/warnings/venv\n"
          ]
        }
      ],
      "source": [
        "#@title Default title text\n",
        "%%bash\n",
        " # navigate to the created folder\n",
        "pip3 install --upgrade pip  # update pip is recommended but not a necessity\n",
        "pip3 install -r requirements_GenNet.txt # install all the requirementes voor GenNet."
      ]
    },
    {
      "cell_type": "markdown",
      "source": [
        "If we want to convert data it is recommended to install bitarray as well"
      ],
      "metadata": {
        "id": "RPtIwC04Jghc"
      }
    },
    {
      "cell_type": "code",
      "source": [
        "!pip install bitarray"
      ],
      "metadata": {
        "colab": {
          "base_uri": "https://localhost:8080/"
        },
        "collapsed": true,
        "id": "5ZSMW-ZlyzDX",
        "outputId": "8eaf8ebc-2ad6-41fa-af82-1fbc8326a836"
      },
      "execution_count": 4,
      "outputs": [
        {
          "output_type": "stream",
          "name": "stdout",
          "text": [
            "Looking in indexes: https://pypi.org/simple, https://us-python.pkg.dev/colab-wheels/public/simple/\n",
            "Requirement already satisfied: bitarray in /usr/local/lib/python3.7/dist-packages (2.5.1)\n",
            "\u001b[33mWARNING: Running pip as the 'root' user can result in broken permissions and conflicting behaviour with the system package manager. It is recommended to use a virtual environment instead: https://pip.pypa.io/warnings/venv\u001b[0m\u001b[33m\n",
            "\u001b[0m"
          ]
        }
      ]
    },
    {
      "cell_type": "markdown",
      "metadata": {
        "id": "2jUVFCproaJS"
      },
      "source": [
        "## Test GenNet installation"
      ]
    },
    {
      "cell_type": "markdown",
      "source": [
        "Running the classification example:\n",
        "\n",
        "\n",
        "*   **-path** is the path to the directory containing the files necessary to run GenNet.\n",
        "*   **-ID is** the experment id. Make this unique for each experiment.\n",
        "\n"
      ],
      "metadata": {
        "id": "KQtFdfm1qQzc"
      }
    },
    {
      "cell_type": "markdown",
      "source": [
        "### Classification example"
      ],
      "metadata": {
        "id": "pVVcszrcJ1ci"
      }
    },
    {
      "cell_type": "code",
      "source": [
        "%%bash\n",
        "cd GenNet # move into the GenNet folder\n",
        "python GenNet.py train -path ./examples/example_classification/ -ID 9999 -epochs 50  # run the classificaiton example."
      ],
      "metadata": {
        "colab": {
          "base_uri": "https://localhost:8080/"
        },
        "collapsed": true,
        "id": "4zh4E5Hvp4x7",
        "outputId": "63520523-9651-4d63-ae6e-8138fd30b8df"
      },
      "execution_count": 5,
      "outputs": [
        {
          "output_type": "stream",
          "name": "stdout",
          "text": [
            "number of covariates: 0\n",
            "Covariate columns found: []\n",
            "mode is classification\n",
            "weight_possitive_class 1\n",
            "weight_possitive_class 1\n",
            "jobid =  9999\n",
            "folder = GenNet_experiment_9999\n",
            "batchsize = 32\n",
            "lr = 0.001\n",
            "Creating networks from npz masks\n",
            "regression False\n",
            "Model: \"model\"\n",
            "__________________________________________________________________________________________________\n",
            "Layer (type)                    Output Shape         Param #     Connected to                     \n",
            "==================================================================================================\n",
            "input_layer (InputLayer)        [(None, 100)]        0                                            \n",
            "__________________________________________________________________________________________________\n",
            "reshape (Reshape)               (None, 100, 1)       0           input_layer[0][0]                \n",
            "__________________________________________________________________________________________________\n",
            "LocallyDirected_0 (LocallyDirec (None, 10, 1)        110         reshape[0][0]                    \n",
            "__________________________________________________________________________________________________\n",
            "activation (Activation)         (None, 10, 1)        0           LocallyDirected_0[0][0]          \n",
            "__________________________________________________________________________________________________\n",
            "batch_normalization (BatchNorma (None, 10, 1)        2           activation[0][0]                 \n",
            "__________________________________________________________________________________________________\n",
            "LocallyDirected_1 (LocallyDirec (None, 2, 1)         102         batch_normalization[0][0]        \n",
            "__________________________________________________________________________________________________\n",
            "activation_1 (Activation)       (None, 2, 1)         0           LocallyDirected_1[0][0]          \n",
            "__________________________________________________________________________________________________\n",
            "batch_normalization_1 (BatchNor (None, 2, 1)         2           activation_1[0][0]               \n",
            "__________________________________________________________________________________________________\n",
            "flatten (Flatten)               (None, 2)            0           batch_normalization_1[0][0]      \n",
            "__________________________________________________________________________________________________\n",
            "output_layer (Dense)            (None, 1)            3           flatten[0][0]                    \n",
            "__________________________________________________________________________________________________\n",
            "inputs_cov (InputLayer)         [(None, 0)]          0                                            \n",
            "__________________________________________________________________________________________________\n",
            "activation_2 (Activation)       (None, 1)            0           output_layer[0][0]               \n",
            "==================================================================================================\n",
            "Total params: 219\n",
            "Trainable params: 215\n",
            "Non-trainable params: 4\n",
            "__________________________________________________________________________________________________\n",
            "None\n",
            "Model already Trained\n",
            "Finished\n",
            "Analysis over the validation set\n",
            "\n",
            "\n",
            "Confusion matrix\n",
            "[[1650    0]\n",
            " [  13  337]]\n",
            "\n",
            "\n",
            "Area under the Curve (AUC) =  0.978326406926407\n",
            "Specificity =  1.0\n",
            "Sensitivity =  0.9628571428571429\n",
            "F_1 score = 0.9810771470160117\n",
            "Analysis over the test set\n",
            "\n",
            "\n",
            "Confusion matrix\n",
            "[[1655    1]\n",
            " [  14  330]]\n",
            "\n",
            "\n",
            "Area under the Curve (AUC) =  0.9798521584653409\n",
            "Specificity =  0.9993961352657005\n",
            "Sensitivity =  0.9593023255813954\n",
            "F_1 score = 0.9777777777777777\n"
          ]
        },
        {
          "output_type": "stream",
          "name": "stderr",
          "text": [
            "bash: line 1: cd: GenNet: No such file or directory\n",
            "2022-06-04 19:37:49.374228: I tensorflow/stream_executor/platform/default/dso_loader.cc:44] Successfully opened dynamic library libcuda.so.1\n",
            "2022-06-04 19:37:49.430119: I tensorflow/stream_executor/cuda/cuda_gpu_executor.cc:981] successful NUMA node read from SysFS had negative value (-1), but there must be at least one NUMA node, so returning NUMA node zero\n",
            "2022-06-04 19:37:49.431000: I tensorflow/core/common_runtime/gpu/gpu_device.cc:1561] Found device 0 with properties: \n",
            "pciBusID: 0000:00:04.0 name: Tesla T4 computeCapability: 7.5\n",
            "coreClock: 1.59GHz coreCount: 40 deviceMemorySize: 14.75GiB deviceMemoryBandwidth: 298.08GiB/s\n",
            "2022-06-04 19:37:49.431445: I tensorflow/stream_executor/platform/default/dso_loader.cc:44] Successfully opened dynamic library libcudart.so.10.1\n",
            "2022-06-04 19:37:49.433336: I tensorflow/stream_executor/platform/default/dso_loader.cc:44] Successfully opened dynamic library libcublas.so.10\n",
            "2022-06-04 19:37:49.433415: I tensorflow/stream_executor/platform/default/dso_loader.cc:44] Successfully opened dynamic library libcufft.so.10\n",
            "2022-06-04 19:37:49.433448: I tensorflow/stream_executor/platform/default/dso_loader.cc:44] Successfully opened dynamic library libcurand.so.10\n",
            "2022-06-04 19:37:49.435281: I tensorflow/stream_executor/platform/default/dso_loader.cc:44] Successfully opened dynamic library libcusolver.so.10\n",
            "2022-06-04 19:37:49.436109: I tensorflow/stream_executor/platform/default/dso_loader.cc:44] Successfully opened dynamic library libcusparse.so.10\n",
            "2022-06-04 19:37:49.441594: I tensorflow/stream_executor/platform/default/dso_loader.cc:44] Successfully opened dynamic library libcudnn.so.7\n",
            "2022-06-04 19:37:49.441742: I tensorflow/stream_executor/cuda/cuda_gpu_executor.cc:981] successful NUMA node read from SysFS had negative value (-1), but there must be at least one NUMA node, so returning NUMA node zero\n",
            "2022-06-04 19:37:49.442611: I tensorflow/stream_executor/cuda/cuda_gpu_executor.cc:981] successful NUMA node read from SysFS had negative value (-1), but there must be at least one NUMA node, so returning NUMA node zero\n",
            "2022-06-04 19:37:49.443380: I tensorflow/core/common_runtime/gpu/gpu_device.cc:1703] Adding visible gpu devices: 0\n",
            "2022-06-04 19:37:49.443767: I tensorflow/core/platform/cpu_feature_guard.cc:143] Your CPU supports instructions that this TensorFlow binary was not compiled to use: AVX2 FMA\n",
            "2022-06-04 19:37:49.454169: I tensorflow/core/platform/profile_utils/cpu_utils.cc:102] CPU Frequency: 2199995000 Hz\n",
            "2022-06-04 19:37:49.454426: I tensorflow/compiler/xla/service/service.cc:168] XLA service 0x290b640 initialized for platform Host (this does not guarantee that XLA will be used). Devices:\n",
            "2022-06-04 19:37:49.454458: I tensorflow/compiler/xla/service/service.cc:176]   StreamExecutor device (0): Host, Default Version\n",
            "2022-06-04 19:37:49.658447: I tensorflow/stream_executor/cuda/cuda_gpu_executor.cc:981] successful NUMA node read from SysFS had negative value (-1), but there must be at least one NUMA node, so returning NUMA node zero\n",
            "2022-06-04 19:37:49.659200: I tensorflow/compiler/xla/service/service.cc:168] XLA service 0x290b800 initialized for platform CUDA (this does not guarantee that XLA will be used). Devices:\n",
            "2022-06-04 19:37:49.659231: I tensorflow/compiler/xla/service/service.cc:176]   StreamExecutor device (0): Tesla T4, Compute Capability 7.5\n",
            "2022-06-04 19:37:49.659436: I tensorflow/stream_executor/cuda/cuda_gpu_executor.cc:981] successful NUMA node read from SysFS had negative value (-1), but there must be at least one NUMA node, so returning NUMA node zero\n",
            "2022-06-04 19:37:49.659996: I tensorflow/core/common_runtime/gpu/gpu_device.cc:1561] Found device 0 with properties: \n",
            "pciBusID: 0000:00:04.0 name: Tesla T4 computeCapability: 7.5\n",
            "coreClock: 1.59GHz coreCount: 40 deviceMemorySize: 14.75GiB deviceMemoryBandwidth: 298.08GiB/s\n",
            "2022-06-04 19:37:49.660143: I tensorflow/stream_executor/platform/default/dso_loader.cc:44] Successfully opened dynamic library libcudart.so.10.1\n",
            "2022-06-04 19:37:49.660199: I tensorflow/stream_executor/platform/default/dso_loader.cc:44] Successfully opened dynamic library libcublas.so.10\n",
            "2022-06-04 19:37:49.660228: I tensorflow/stream_executor/platform/default/dso_loader.cc:44] Successfully opened dynamic library libcufft.so.10\n",
            "2022-06-04 19:37:49.660246: I tensorflow/stream_executor/platform/default/dso_loader.cc:44] Successfully opened dynamic library libcurand.so.10\n",
            "2022-06-04 19:37:49.660278: I tensorflow/stream_executor/platform/default/dso_loader.cc:44] Successfully opened dynamic library libcusolver.so.10\n",
            "2022-06-04 19:37:49.660313: I tensorflow/stream_executor/platform/default/dso_loader.cc:44] Successfully opened dynamic library libcusparse.so.10\n",
            "2022-06-04 19:37:49.660346: I tensorflow/stream_executor/platform/default/dso_loader.cc:44] Successfully opened dynamic library libcudnn.so.7\n",
            "2022-06-04 19:37:49.660420: I tensorflow/stream_executor/cuda/cuda_gpu_executor.cc:981] successful NUMA node read from SysFS had negative value (-1), but there must be at least one NUMA node, so returning NUMA node zero\n",
            "2022-06-04 19:37:49.661014: I tensorflow/stream_executor/cuda/cuda_gpu_executor.cc:981] successful NUMA node read from SysFS had negative value (-1), but there must be at least one NUMA node, so returning NUMA node zero\n",
            "2022-06-04 19:37:49.661537: I tensorflow/core/common_runtime/gpu/gpu_device.cc:1703] Adding visible gpu devices: 0\n",
            "2022-06-04 19:37:49.661643: I tensorflow/stream_executor/platform/default/dso_loader.cc:44] Successfully opened dynamic library libcudart.so.10.1\n",
            "2022-06-04 19:37:49.663049: I tensorflow/core/common_runtime/gpu/gpu_device.cc:1102] Device interconnect StreamExecutor with strength 1 edge matrix:\n",
            "2022-06-04 19:37:49.663077: I tensorflow/core/common_runtime/gpu/gpu_device.cc:1108]      0 \n",
            "2022-06-04 19:37:49.663088: I tensorflow/core/common_runtime/gpu/gpu_device.cc:1121] 0:   N \n",
            "2022-06-04 19:37:49.663211: I tensorflow/stream_executor/cuda/cuda_gpu_executor.cc:981] successful NUMA node read from SysFS had negative value (-1), but there must be at least one NUMA node, so returning NUMA node zero\n",
            "2022-06-04 19:37:49.663790: I tensorflow/stream_executor/cuda/cuda_gpu_executor.cc:981] successful NUMA node read from SysFS had negative value (-1), but there must be at least one NUMA node, so returning NUMA node zero\n",
            "2022-06-04 19:37:49.664307: W tensorflow/core/common_runtime/gpu/gpu_bfc_allocator.cc:39] Overriding allow_growth setting because the TF_FORCE_GPU_ALLOW_GROWTH environment variable is set. Original config value was 0.\n",
            "2022-06-04 19:37:49.664351: I tensorflow/core/common_runtime/gpu/gpu_device.cc:1247] Created TensorFlow device (/job:localhost/replica:0/task:0/device:GPU:0 with 14107 MB memory) -> physical GPU (device: 0, name: Tesla T4, pci bus id: 0000:00:04.0, compute capability: 7.5)\n",
            "WARNING:tensorflow:From /content/GenNet/GenNet_utils/Train_network.py:177: Model.predict_generator (from tensorflow.python.keras.engine.training) is deprecated and will be removed in a future version.\n",
            "Instructions for updating:\n",
            "Please use Model.predict, which supports generators.\n",
            "2022-06-04 19:37:50.601885: I tensorflow/stream_executor/platform/default/dso_loader.cc:44] Successfully opened dynamic library libcublas.so.10\n"
          ]
        }
      ]
    },
    {
      "cell_type": "markdown",
      "source": [
        "### Results\n",
        "Results can be found in GenNet/results/"
      ],
      "metadata": {
        "id": "XJuogYZc4EvP"
      }
    },
    {
      "cell_type": "code",
      "source": [
        "%%bash\n",
        "ls results"
      ],
      "metadata": {
        "colab": {
          "base_uri": "https://localhost:8080/"
        },
        "id": "Ou4Rfu33KY9X",
        "outputId": "bdd5d1b4-8307-4f99-937e-9f9a3cace497"
      },
      "execution_count": 17,
      "outputs": [
        {
          "output_type": "stream",
          "name": "stdout",
          "text": [
            "GenNet_experiment_100001_\n",
            "GenNet_experiment_9999_\n"
          ]
        }
      ]
    },
    {
      "cell_type": "code",
      "source": [
        "ls results/GenNet_experiment_9999_"
      ],
      "metadata": {
        "colab": {
          "base_uri": "https://localhost:8080/"
        },
        "id": "5XO_H849PYO8",
        "outputId": "0a0f2663-192e-440e-cec2-ad6c486e1ecd"
      },
      "execution_count": 18,
      "outputs": [
        {
          "output_type": "stream",
          "name": "stdout",
          "text": [
            "bestweights_job.h5      ptest.npy         Summary_results.csv\n",
            "connection_weights.csv  pval.npy          train_log.csv\n",
            "model_architecture.txt  Results_9999.txt  train_val_loss.png\n"
          ]
        }
      ]
    },
    {
      "cell_type": "code",
      "source": [
        "## Checking the learn curve\n",
        "\n",
        "import matplotlib.pyplot as plt\n",
        "import matplotlib.image as mpimg\n",
        "img = mpimg.imread('results/GenNet_experiment_9999_/train_val_loss.png')\n",
        "imgplot = plt.imshow(img)\n",
        "plt.axis('off')\n",
        "plt.show()"
      ],
      "metadata": {
        "colab": {
          "base_uri": "https://localhost:8080/",
          "height": 248
        },
        "id": "vPPfVHHcPbYE",
        "outputId": "cba44dff-27d2-4028-ad02-89e21786ebc9"
      },
      "execution_count": 31,
      "outputs": [
        {
          "output_type": "display_data",
          "data": {
            "text/plain": [
              "<Figure size 432x288 with 1 Axes>"
            ],
            "image/png": "[encoded data removed]"
          },
          "metadata": {
            "needs_background": "light"
          }
        }
      ]
    },
    {
      "cell_type": "code",
      "source": [
        "import pandas as pd\n",
        "pd.read_csv('results/GenNet_experiment_9999_/Summary_results.csv', index_col = 0)"
      ],
      "metadata": {
        "colab": {
          "base_uri": "https://localhost:8080/",
          "height": 81
        },
        "id": "GY_e6_1XQt26",
        "outputId": "bf06d2dc-11ec-4945-d56f-24a0533d07ad"
      },
      "execution_count": 37,
      "outputs": [
        {
          "output_type": "execute_result",
          "data": {
            "text/plain": [
              "   Jobid                            Datapath  \\\n",
              "0   9999  ./examples/example_classification/   \n",
              "\n",
              "                        genotype_path  Batchsize  Learning rate  L1 value  \\\n",
              "0  ./examples/example_classification/         32          0.001      0.01   \n",
              "\n",
              "   patience  epoch size  epochs  Weight positive class  AUC validation  \\\n",
              "0        50        4000      50                      1        0.978326   \n",
              "\n",
              "   AUC test  \n",
              "0  0.979852  "
            ],
            "text/html": [
              "\n",
              "  <div id=\"df-d7b260b0-da0f-4ad5-88f6-bca1b1c8892a\">\n",
              "    <div class=\"colab-df-container\">\n",
              "      <div>\n",
              "<style scoped>\n",
              "    .dataframe tbody tr th:only-of-type {\n",
              "        vertical-align: middle;\n",
              "    }\n",
              "\n",
              "    .dataframe tbody tr th {\n",
              "        vertical-align: top;\n",
              "    }\n",
              "\n",
              "    .dataframe thead th {\n",
              "        text-align: right;\n",
              "    }\n",
              "</style>\n",
              "<table border=\"1\" class=\"dataframe\">\n",
              "  <thead>\n",
              "    <tr style=\"text-align: right;\">\n",
              "      <th></th>\n",
              "      <th>Jobid</th>\n",
              "      <th>Datapath</th>\n",
              "      <th>genotype_path</th>\n",
              "      <th>Batchsize</th>\n",
              "      <th>Learning rate</th>\n",
              "      <th>L1 value</th>\n",
              "      <th>patience</th>\n",
              "      <th>epoch size</th>\n",
              "      <th>epochs</th>\n",
              "      <th>Weight positive class</th>\n",
              "      <th>AUC validation</th>\n",
              "      <th>AUC test</th>\n",
              "    </tr>\n",
              "  </thead>\n",
              "  <tbody>\n",
              "    <tr>\n",
              "      <th>0</th>\n",
              "      <td>9999</td>\n",
              "      <td>./examples/example_classification/</td>\n",
              "      <td>./examples/example_classification/</td>\n",
              "      <td>32</td>\n",
              "      <td>0.001</td>\n",
              "      <td>0.01</td>\n",
              "      <td>50</td>\n",
              "      <td>4000</td>\n",
              "      <td>50</td>\n",
              "      <td>1</td>\n",
              "      <td>0.978326</td>\n",
              "      <td>0.979852</td>\n",
              "    </tr>\n",
              "  </tbody>\n",
              "</table>\n",
              "</div>\n",
              "      <button class=\"colab-df-convert\" onclick=\"convertToInteractive('df-d7b260b0-da0f-4ad5-88f6-bca1b1c8892a')\"\n",
              "              title=\"Convert this dataframe to an interactive table.\"\n",
              "              style=\"display:none;\">\n",
              "        \n",
              "  <svg xmlns=\"http://www.w3.org/2000/svg\" height=\"24px\"viewBox=\"0 0 24 24\"\n",
              "       width=\"24px\">\n",
              "    <path d=\"M0 0h24v24H0V0z\" fill=\"none\"/>\n",
              "    <path d=\"M18.56 5.44l.94 2.06.94-2.06 2.06-.94-2.06-.94-.94-2.06-.94 2.06-2.06.94zm-11 1L8.5 8.5l.94-2.06 2.06-.94-2.06-.94L8.5 2.5l-.94 2.06-2.06.94zm10 10l.94 2.06.94-2.06 2.06-.94-2.06-.94-.94-2.06-.94 2.06-2.06.94z\"/><path d=\"M17.41 7.96l-1.37-1.37c-.4-.4-.92-.59-1.43-.59-.52 0-1.04.2-1.43.59L10.3 9.45l-7.72 7.72c-.78.78-.78 2.05 0 2.83L4 21.41c.39.39.9.59 1.41.59.51 0 1.02-.2 1.41-.59l7.78-7.78 2.81-2.81c.8-.78.8-2.07 0-2.86zM5.41 20L4 18.59l7.72-7.72 1.47 1.35L5.41 20z\"/>\n",
              "  </svg>\n",
              "      </button>\n",
              "      \n",
              "  <style>\n",
              "    .colab-df-container {\n",
              "      display:flex;\n",
              "      flex-wrap:wrap;\n",
              "      gap: 12px;\n",
              "    }\n",
              "\n",
              "    .colab-df-convert {\n",
              "      background-color: #E8F0FE;\n",
              "      border: none;\n",
              "      border-radius: 50%;\n",
              "      cursor: pointer;\n",
              "      display: none;\n",
              "      fill: #1967D2;\n",
              "      height: 32px;\n",
              "      padding: 0 0 0 0;\n",
              "      width: 32px;\n",
              "    }\n",
              "\n",
              "    .colab-df-convert:hover {\n",
              "      background-color: #E2EBFA;\n",
              "      box-shadow: 0px 1px 2px rgba(60, 64, 67, 0.3), 0px 1px 3px 1px rgba(60, 64, 67, 0.15);\n",
              "      fill: #174EA6;\n",
              "    }\n",
              "\n",
              "    [theme=dark] .colab-df-convert {\n",
              "      background-color: #3B4455;\n",
              "      fill: #D2E3FC;\n",
              "    }\n",
              "\n",
              "    [theme=dark] .colab-df-convert:hover {\n",
              "      background-color: #434B5C;\n",
              "      box-shadow: 0px 1px 3px 1px rgba(0, 0, 0, 0.15);\n",
              "      filter: drop-shadow(0px 1px 2px rgba(0, 0, 0, 0.3));\n",
              "      fill: #FFFFFF;\n",
              "    }\n",
              "  </style>\n",
              "\n",
              "      <script>\n",
              "        const buttonEl =\n",
              "          document.querySelector('#df-d7b260b0-da0f-4ad5-88f6-bca1b1c8892a button.colab-df-convert');\n",
              "        buttonEl.style.display =\n",
              "          google.colab.kernel.accessAllowed ? 'block' : 'none';\n",
              "\n",
              "        async function convertToInteractive(key) {\n",
              "          const element = document.querySelector('#df-d7b260b0-da0f-4ad5-88f6-bca1b1c8892a');\n",
              "          const dataTable =\n",
              "            await google.colab.kernel.invokeFunction('convertToInteractive',\n",
              "                                                     [key], {});\n",
              "          if (!dataTable) return;\n",
              "\n",
              "          const docLinkHtml = 'Like what you see? Visit the ' +\n",
              "            '<a target=\"_blank\" href=https://colab.research.google.com/notebooks/data_table.ipynb>data table notebook</a>'\n",
              "            + ' to learn more about interactive tables.';\n",
              "          element.innerHTML = '';\n",
              "          dataTable['output_type'] = 'display_data';\n",
              "          await google.colab.output.renderOutput(dataTable, element);\n",
              "          const docLink = document.createElement('div');\n",
              "          docLink.innerHTML = docLinkHtml;\n",
              "          element.appendChild(docLink);\n",
              "        }\n",
              "      </script>\n",
              "    </div>\n",
              "  </div>\n",
              "  "
            ]
          },
          "metadata": {},
          "execution_count": 37
        }
      ]
    },
    {
      "cell_type": "markdown",
      "source": [
        "### Help function\n",
        "\n",
        "For more information and options see the --help function:"
      ],
      "metadata": {
        "id": "cY3wPiBasjRa"
      }
    },
    {
      "cell_type": "code",
      "source": [
        "!python GenNet.py --help # to see the general options"
      ],
      "metadata": {
        "colab": {
          "base_uri": "https://localhost:8080/"
        },
        "id": "rhVxnLJatCqs",
        "outputId": "97cda986-0622-4af0-964b-c3ed4bf84128"
      },
      "execution_count": 38,
      "outputs": [
        {
          "output_type": "stream",
          "name": "stdout",
          "text": [
            "usage: GenNet.py [-h] {convert,train,plot,topology} ...\n",
            "\n",
            "GenNet: Interpretable neural networks for phenotype prediction.\n",
            "\n",
            "positional arguments:\n",
            "  {convert,train,plot,topology}\n",
            "                        GenNet main options\n",
            "    convert             Convert genotype data to hdf5\n",
            "    train               Trains the network\n",
            "    plot                Generate plots from a trained network\n",
            "    topology            Create standard topology files\n",
            "\n",
            "optional arguments:\n",
            "  -h, --help            show this help message and exit\n",
            "\n",
            "Check the wiki on github.com/arnovanhilten/gennet/ for more info\n"
          ]
        }
      ]
    },
    {
      "cell_type": "code",
      "source": [
        "!python GenNet.py train --help # to see the options for GenNet train"
      ],
      "metadata": {
        "colab": {
          "base_uri": "https://localhost:8080/"
        },
        "id": "p8h48F7RtIKZ",
        "outputId": "798b6028-37eb-47d6-d5af-0ab49fb354b6"
      },
      "execution_count": 39,
      "outputs": [
        {
          "output_type": "stream",
          "name": "stdout",
          "text": [
            "usage: GenNet.py train [-h] -path PATH -ID ID [-genotype_path GENOTYPE_PATH]\n",
            "                       [-network_name NETWORK_NAME]\n",
            "                       [-problem_type {classification,regression}]\n",
            "                       [-wpc weight positive class] [-lr learning rate]\n",
            "                       [-bs batch size] [-epochs number of epochs] [-L1]\n",
            "                       [-mixed_precision] [-suffix extra_info]\n",
            "                       [-out outfolder]\n",
            "                       [-mask_order mask_order [mask_order ...]]\n",
            "                       [-epoch_size epoch_size] [-patience patience] [-resume]\n",
            "\n",
            "optional arguments:\n",
            "  -h, --help            show this help message and exit\n",
            "  -path PATH            Path to the data. Subject file, npz masks/topology\n",
            "                        and/or genotype.h5\n",
            "  -ID ID                Number of the experiment\n",
            "  -genotype_path GENOTYPE_PATH\n",
            "                        Path to genotype data if the location is not the same\n",
            "                        as given in -path\n",
            "  -network_name NETWORK_NAME\n",
            "                        Name of the network\n",
            "  -problem_type {classification,regression}\n",
            "                        Type of problem, choices are: classification or\n",
            "                        regression\n",
            "  -wpc weight positive class\n",
            "                        Hyperparameter:weight of the positive class\n",
            "  -lr learning rate, --learning_rate learning rate\n",
            "                        Hyperparameter: learning rate of the optimizer\n",
            "  -bs batch size, --batch_size batch size\n",
            "                        Hyperparameter: batch size\n",
            "  -epochs number of epochs\n",
            "                        Hyperparameter: batch size\n",
            "  -L1                   Hyperparameter: value for the L1 regularization\n",
            "                        pentalty similar as in lasso, enforces sparsity\n",
            "  -mixed_precision      Flag for mixed precision to save memory (can reduce\n",
            "                        performance)\n",
            "  -suffix extra_info    Add extra suffix for easier identification of the\n",
            "                        folder\n",
            "  -out outfolder        Use this argument to change the output directory\n",
            "  -mask_order mask_order [mask_order ...]\n",
            "                        Use this to define the order of the mask if they\n",
            "                        should not be ordered by size. list masks by full name\n",
            "                        and in order. (e.g. --mask_order SNP_gene_mask\n",
            "                        mask_gene_local mask_local_mid mask_mid_global)\n",
            "  -epoch_size epoch_size\n",
            "                        Use this argument to shorten an epoch if an epoch\n",
            "                        takes to long.Epoch_size will be the new epoch size.\n",
            "                        Epochs will be shuffled after all data has been seen\n",
            "  -patience patience    Number of epochs with no improvement after which\n",
            "                        training will be stopped.\n",
            "  -resume               Flag for resuming training with existing weights (if\n",
            "                        they exist)\n"
          ]
        }
      ]
    },
    {
      "cell_type": "markdown",
      "metadata": {
        "id": "UsOd33NDsUD9"
      },
      "source": [
        "## GenNet: from Plink to Prediction "
      ]
    },
    {
      "cell_type": "markdown",
      "source": [
        "### Converting the data\n",
        "\n",
        "You can do this step by step or use the flag  -step **all**. If you want to use a cluster and run the preprocessing in parallel (recommended for datasets > 100 gb) use the steps and add the -n_jobs with the number of parallel jobs. Each output will guide you trough the next step\n",
        "\n",
        "*Note: HDF5 reads fast the rows but not the columns so we need to transpose the data since we want to train the network per patient.*\n",
        "\n",
        "*   **hase_convert**: Converts the data into hdf5 format. Each row is a SNP, each column is a patient\n",
        "*   **merge**: Merge the hase_covert chunks in a single file\n",
        "*   **impute_missing**: Impute missing SNP values in the genotype matrix to have the mean value over all others\n",
        "*   **exclude**: Exclude the SNPs you dont need to limit computational cost\n",
        "*   **transpose**: Transposes the genotype matrix to have individuals on each row and SNPs for the columns.\n",
        "*   **merge_transpose**: Merge the transposed genotype matrix in a single file\n",
        "\n",
        "*If you have a lot of RAM available and a large dataset that will fit into this memory, it might be faster to use a simple script to transpose the matrix in memory*\n",
        "\n"
      ],
      "metadata": {
        "id": "MKRc--vAOePR"
      }
    },
    {
      "cell_type": "code",
      "source": [
        "!python GenNet.py convert --help # show the options for converting the data"
      ],
      "metadata": {
        "colab": {
          "base_uri": "https://localhost:8080/"
        },
        "id": "cx3Df25PRRyZ",
        "outputId": "5f7a0747-0bec-4e6a-cd23-3388bb4295a8"
      },
      "execution_count": 40,
      "outputs": [
        {
          "output_type": "stream",
          "name": "stdout",
          "text": [
            "usage: GenNet.py convert [-h] [-g GENOTYPE [GENOTYPE ...]] -study_name\n",
            "                         STUDY_NAME [STUDY_NAME ...] [-variants VARIANTS]\n",
            "                         [-o OUT] [-ID] [-vcf] [-tcm TCM]\n",
            "                         [-step {all,hase_convert,merge,impute_missing,exclude,transpose,merge_transpose,checksum}]\n",
            "                         [-n_jobs N_JOBS] [-comp_level COMP_LEVEL]\n",
            "\n",
            "optional arguments:\n",
            "  -h, --help            show this help message and exit\n",
            "  -g GENOTYPE [GENOTYPE ...], --genotype GENOTYPE [GENOTYPE ...]\n",
            "                        Path/paths to genotype data folder\n",
            "  -study_name STUDY_NAME [STUDY_NAME ...]\n",
            "                        Name for saved genotype data, without ext\n",
            "  -variants VARIANTS    Path to file with row numbers of variants to include,\n",
            "                        if none is given all variants will be used\n",
            "  -o OUT, --out OUT     Path for saving the results, default ./processed_data\n",
            "  -ID                   Flag to convert minimac data to genotype per subject\n",
            "                        files first (default False)\n",
            "  -vcf                  Flag for VCF data to convert\n",
            "  -tcm TCM              Modifier for chunk size during TRANSPOSING make it\n",
            "                        lower if you run out of memory during transposing\n",
            "  -step {all,hase_convert,merge,impute_missing,exclude,transpose,merge_transpose,checksum}\n",
            "                        Modifier to choose step to do\n",
            "  -n_jobs N_JOBS        Choose jobs > 1 for multiple job submission on a\n",
            "                        cluster\n",
            "  -comp_level COMP_LEVEL\n",
            "                        How compressed should the data be? Between 1-9. 1 for\n",
            "                        low compression, 9 is highest compression\n"
          ]
        }
      ]
    },
    {
      "cell_type": "code",
      "execution_count": 9,
      "metadata": {
        "colab": {
          "base_uri": "https://localhost:8080/"
        },
        "id": "g28PZ_bRjg-I",
        "outputId": "f350b86e-50e9-4896-cc86-8002770b1b2e"
      },
      "outputs": [
        {
          "output_type": "stream",
          "name": "stdout",
          "text": [
            "The folders: probes, genotype and individuals already exist. Data seems already in HASE format. Delete the folders if the files are not converted properly. Continuing with the current files:\n",
            "./examples/A_to_Z/processed_data// <class 'str'>\n",
            "number of files  1\n",
            "\n",
            " merge all files...\n",
            "\r  0% 0/1 [00:00<?, ?it/s]\r100% 1/1 [00:00<00:00, 70.27it/s]\n",
            "merged shape = (100, 14000)\n",
            "probe shape = (100, 6)\n",
            "\n",
            " impute missing...\n",
            "14000\n",
            "100% 2/2 [00:00<00:00, 77.66it/s]\n",
            "WARNING skipped step 4, all variants are used: using ./examples/A_to_Z/processed_data///GenNet_simulation_step3_genotype_no_missing.h5\n",
            "chuncksize = 14000\n",
            "100% 2/2 [00:00<00:00, 74.53it/s]\n",
            "Completed GenNet_simulation\n",
            "You can delete all other h5 files if genotype.h5 is correct\n"
          ]
        }
      ],
      "source": [
        "!python GenNet.py convert -g ./examples/A_to_Z/plink/ -o ./examples/A_to_Z/processed_data/  -study_name GenNet_simulation -step all"
      ]
    },
    {
      "cell_type": "markdown",
      "source": [
        "### Creating the network \n",
        "\n",
        "Now make the neural network from prior biological knowledge. Here we will use gene annotations. In the framework there is also the possibility to use gene annotations and KEGG pathway annotations. GenNet topology allows for the fast creation of gene and pathway layers. You can make an .npz mask or a topology.csv\n",
        "\n",
        "\n",
        "\n",
        "---\n",
        "\n",
        "\n",
        "\n",
        "Other prior biological knowledge based layers can be easily created:\n",
        "\n",
        "*A .npz mask is recommended if you want to make a deeper network since it provides more flexibility.*\n",
        "\n",
        "For the GenNet layer you need to have this npz mask to guide the network connections. The mask is simply a connectivity matrix:\n",
        "    # The matrix has the shape of (N_nodes_layer_1, N_nodes_layer_2).\n",
        "    # It is a sparse matrix with zeros for no connections and ones if there is a connections. For example.\n",
        "    #             output\n",
        "    #           1 2 3 4 5\n",
        "    # input 1 | 1 0 0 0 0 |\n",
        "    # input 2 | 1 1 0 0 0 |\n",
        "    # input 3 | 0 1 0 0 0 |\n",
        "    # input 4 | 0 1 0 0 0 |\n",
        "    # input 5 | 0 0 1 0 0 |\n",
        "    # input 6 | 0 0 0 1 0 |\n",
        "    # input 7 | 0 0 0 1 0 |\n",
        "    # This connects the first two inputs (1,2) to the first neuron in the second layer.\n",
        "    # Connects input 2,3 and 4 to output neuron 2.\n",
        "    # Connects input 5 to output neuron 3\n",
        "    # Connects input 6 and 7 o the 4th neuron in the subsequent layer\n",
        "    # Connects nothing to the 5th neuron\n",
        "    #\n",
        "    # Writtem for Gennet framework: interpretable neural networks for phenotype prediction\n",
        "    # (https://www.biorxiv.org/content/10.1101/2020.06.19.159152v1.full)\n"
      ],
      "metadata": {
        "id": "l4fB9x8LTtKZ"
      }
    },
    {
      "cell_type": "markdown",
      "source": [
        "Run Annovar (https://annovar.openbioinformatics.org/en/latest/) or your  favorite annotation tool to gain the biological knowledge (e.g gene annotations) to build your network. For annovar we can obtain the right input format with:"
      ],
      "metadata": {
        "id": "G7nAEmy15M0o"
      }
    },
    {
      "cell_type": "code",
      "source": [
        "!python GenNet.py topology -type create_annovar_input -path ./examples/A_to_Z/processed_data/ -study_name GenNet_simulation -out examples/A_to_Z/processed_data/\n"
      ],
      "metadata": {
        "colab": {
          "base_uri": "https://localhost:8080/"
        },
        "id": "G1mgtUPdX1fa",
        "outputId": "90e61a37-94af-453d-b338-e98fd3cd4b70"
      },
      "execution_count": 10,
      "outputs": [
        {
          "output_type": "stream",
          "name": "stdout",
          "text": [
            "(100, 6)\n",
            "Number of variants (100, 6)\n",
            "\n",
            "\n",
            "Annovar input files ready \n",
            "\n",
            "Install annovar: https://doc-openbio.readthedocs.io/projects/annovar/en/latest/user-guide/download/\n",
            "Navigate to annovar, e.g cd /home/charlesdarwin/annovar/\n",
            "Update annovar:\n",
            " perl annotate_variation.pl -buildver hg19 -downdb -webfrom annovar refGene humandb/\n",
            "Run:\n",
            " perl annotate_variation.pl -geneanno -dbtype refGene -buildver hg19 examples/A_to_Z/processed_data//annovar_input_GenNet_simulation.csv humandb --outfile examples/A_to_Z/processed_data//GenNet_simulation_RefGene\n",
            "\n",
            "\n",
            "After obtaining the Annovar annotations, run topology create_gene_network to get the topology file for the SNPs-gene-output network:\n"
          ]
        }
      ]
    },
    {
      "cell_type": "markdown",
      "source": [
        "Now run the given lines in the folder with annovar:\n",
        "\n",
        "```\n",
        "perl annotate_variation.pl -buildver hg19 -downdb -webfrom annovar refGene humandb/\n",
        "```\n",
        "After updating the obtaining the annotation:\n",
        "```\n",
        " perl annotate_variation.pl -geneanno -dbtype refGene -buildver hg19 examples/A_to_Z/processed_data//annovar_input_GenNet_simulation.csv humandb --outfile examples/A_to_Z/processed_data//GenNet_simulation_RefGene\n",
        "\n",
        "```\n",
        "\n"
      ],
      "metadata": {
        "id": "wDrECG6W52Zv"
      }
    },
    {
      "cell_type": "markdown",
      "source": [
        "For this example the gene annotations from Annovar are already placed in the processed data folder:"
      ],
      "metadata": {
        "id": "TxYDaVcQ5rVP"
      }
    },
    {
      "cell_type": "code",
      "source": [
        "%ls examples/A_to_Z/processed_data/"
      ],
      "metadata": {
        "colab": {
          "base_uri": "https://localhost:8080/"
        },
        "id": "IzTpdnbW8PIc",
        "outputId": "0706f223-73ad-4bed-9ce4-35eb62bedf28"
      },
      "execution_count": 11,
      "outputs": [
        {
          "output_type": "stream",
          "name": "stdout",
          "text": [
            "annovar_input_GenNet_simulation.csv                \u001b[0m\u001b[01;34mgenotype\u001b[0m/\n",
            "gene_network_description.csv                       genotype.h5\n",
            "GenNet_simulation_RefGene.exonic_variant_function  \u001b[01;34mindividuals\u001b[0m/\n",
            "GenNet_simulation_RefGene.variant_function         \u001b[01;34mprobes\u001b[0m/\n",
            "GenNet_simulation_std.npy                          SNP_gene_mask.npz\n",
            "GenNet_simulation_step2_merged_genotype.h5         topology.csv\n",
            "GenNet_simulation_step3_genotype_no_missing.h5\n"
          ]
        }
      ]
    },
    {
      "cell_type": "code",
      "source": [
        "!python GenNet.py topology -type create_gene_network -path examples/A_to_Z/processed_data/ -out examples/A_to_Z/processed_data/ -study_name GenNet_simulation\n"
      ],
      "metadata": {
        "colab": {
          "base_uri": "https://localhost:8080/"
        },
        "id": "CR6bqgo7Vk5l",
        "outputId": "41778c2a-82c8-491d-eb9b-e4565d2292e7"
      },
      "execution_count": 12,
      "outputs": [
        {
          "output_type": "stream",
          "name": "stdout",
          "text": [
            "GenNet_simulation\n",
            "99\n",
            "Topology file saved: examples/A_to_Z/processed_data///topology.csv\n",
            "Alternatively you can choose to use the .npz mask (building blocks for deeper networks) examples/A_to_Z/processed_data///SNP_gene_mask The mask has shape: (100, 10)\n"
          ]
        }
      ]
    },
    {
      "cell_type": "code",
      "source": [
        "## move files to runfolder"
      ],
      "metadata": {
        "id": "_OTPJsMpUtPY"
      },
      "execution_count": 13,
      "outputs": []
    },
    {
      "cell_type": "code",
      "source": [
        ""
      ],
      "metadata": {
        "id": "S6B-dCIO-1mf"
      },
      "execution_count": 13,
      "outputs": []
    },
    {
      "cell_type": "markdown",
      "source": [
        "### Train the Network"
      ],
      "metadata": {
        "id": "WS5plZjJTT6e"
      }
    },
    {
      "cell_type": "code",
      "source": [
        "!python GenNet.py train -path examples/A_to_Z/run_folder/ -ID 100001 -epochs 50"
      ],
      "metadata": {
        "colab": {
          "base_uri": "https://localhost:8080/"
        },
        "id": "PW7TMQKMUtSC",
        "outputId": "33e77705-713c-4eca-a217-1f8c9af264ac"
      },
      "execution_count": 14,
      "outputs": [
        {
          "output_type": "stream",
          "name": "stdout",
          "text": [
            "number of covariates: 0\n",
            "Covariate columns found: []\n",
            "mode is classification\n",
            "weight_possitive_class 1\n",
            "weight_possitive_class 1\n",
            "jobid =  100001\n",
            "folder = GenNet_experiment_100001\n",
            "batchsize = 32\n",
            "lr = 0.001\n",
            "Creating networks from npz masks\n",
            "regression False\n",
            "2022-06-04 19:38:15.506907: I tensorflow/stream_executor/platform/default/dso_loader.cc:44] Successfully opened dynamic library libcuda.so.1\n",
            "2022-06-04 19:38:15.535233: I tensorflow/stream_executor/cuda/cuda_gpu_executor.cc:981] successful NUMA node read from SysFS had negative value (-1), but there must be at least one NUMA node, so returning NUMA node zero\n",
            "2022-06-04 19:38:15.535837: I tensorflow/core/common_runtime/gpu/gpu_device.cc:1561] Found device 0 with properties: \n",
            "pciBusID: 0000:00:04.0 name: Tesla T4 computeCapability: 7.5\n",
            "coreClock: 1.59GHz coreCount: 40 deviceMemorySize: 14.75GiB deviceMemoryBandwidth: 298.08GiB/s\n",
            "2022-06-04 19:38:15.536161: I tensorflow/stream_executor/platform/default/dso_loader.cc:44] Successfully opened dynamic library libcudart.so.10.1\n",
            "2022-06-04 19:38:15.537571: I tensorflow/stream_executor/platform/default/dso_loader.cc:44] Successfully opened dynamic library libcublas.so.10\n",
            "2022-06-04 19:38:15.537654: I tensorflow/stream_executor/platform/default/dso_loader.cc:44] Successfully opened dynamic library libcufft.so.10\n",
            "2022-06-04 19:38:15.537693: I tensorflow/stream_executor/platform/default/dso_loader.cc:44] Successfully opened dynamic library libcurand.so.10\n",
            "2022-06-04 19:38:15.539333: I tensorflow/stream_executor/platform/default/dso_loader.cc:44] Successfully opened dynamic library libcusolver.so.10\n",
            "2022-06-04 19:38:15.540143: I tensorflow/stream_executor/platform/default/dso_loader.cc:44] Successfully opened dynamic library libcusparse.so.10\n",
            "2022-06-04 19:38:15.543465: I tensorflow/stream_executor/platform/default/dso_loader.cc:44] Successfully opened dynamic library libcudnn.so.7\n",
            "2022-06-04 19:38:15.543577: I tensorflow/stream_executor/cuda/cuda_gpu_executor.cc:981] successful NUMA node read from SysFS had negative value (-1), but there must be at least one NUMA node, so returning NUMA node zero\n",
            "2022-06-04 19:38:15.544146: I tensorflow/stream_executor/cuda/cuda_gpu_executor.cc:981] successful NUMA node read from SysFS had negative value (-1), but there must be at least one NUMA node, so returning NUMA node zero\n",
            "2022-06-04 19:38:15.544678: I tensorflow/core/common_runtime/gpu/gpu_device.cc:1703] Adding visible gpu devices: 0\n",
            "2022-06-04 19:38:15.544916: I tensorflow/core/platform/cpu_feature_guard.cc:143] Your CPU supports instructions that this TensorFlow binary was not compiled to use: AVX2 FMA\n",
            "2022-06-04 19:38:15.549100: I tensorflow/core/platform/profile_utils/cpu_utils.cc:102] CPU Frequency: 2199995000 Hz\n",
            "2022-06-04 19:38:15.549341: I tensorflow/compiler/xla/service/service.cc:168] XLA service 0x1f01640 initialized for platform Host (this does not guarantee that XLA will be used). Devices:\n",
            "2022-06-04 19:38:15.549370: I tensorflow/compiler/xla/service/service.cc:176]   StreamExecutor device (0): Host, Default Version\n",
            "2022-06-04 19:38:15.752738: I tensorflow/stream_executor/cuda/cuda_gpu_executor.cc:981] successful NUMA node read from SysFS had negative value (-1), but there must be at least one NUMA node, so returning NUMA node zero\n",
            "2022-06-04 19:38:15.753450: I tensorflow/compiler/xla/service/service.cc:168] XLA service 0x1f01800 initialized for platform CUDA (this does not guarantee that XLA will be used). Devices:\n",
            "2022-06-04 19:38:15.753481: I tensorflow/compiler/xla/service/service.cc:176]   StreamExecutor device (0): Tesla T4, Compute Capability 7.5\n",
            "2022-06-04 19:38:15.753675: I tensorflow/stream_executor/cuda/cuda_gpu_executor.cc:981] successful NUMA node read from SysFS had negative value (-1), but there must be at least one NUMA node, so returning NUMA node zero\n",
            "2022-06-04 19:38:15.754217: I tensorflow/core/common_runtime/gpu/gpu_device.cc:1561] Found device 0 with properties: \n",
            "pciBusID: 0000:00:04.0 name: Tesla T4 computeCapability: 7.5\n",
            "coreClock: 1.59GHz coreCount: 40 deviceMemorySize: 14.75GiB deviceMemoryBandwidth: 298.08GiB/s\n",
            "2022-06-04 19:38:15.754332: I tensorflow/stream_executor/platform/default/dso_loader.cc:44] Successfully opened dynamic library libcudart.so.10.1\n",
            "2022-06-04 19:38:15.754374: I tensorflow/stream_executor/platform/default/dso_loader.cc:44] Successfully opened dynamic library libcublas.so.10\n",
            "2022-06-04 19:38:15.754395: I tensorflow/stream_executor/platform/default/dso_loader.cc:44] Successfully opened dynamic library libcufft.so.10\n",
            "2022-06-04 19:38:15.754416: I tensorflow/stream_executor/platform/default/dso_loader.cc:44] Successfully opened dynamic library libcurand.so.10\n",
            "2022-06-04 19:38:15.754442: I tensorflow/stream_executor/platform/default/dso_loader.cc:44] Successfully opened dynamic library libcusolver.so.10\n",
            "2022-06-04 19:38:15.754475: I tensorflow/stream_executor/platform/default/dso_loader.cc:44] Successfully opened dynamic library libcusparse.so.10\n",
            "2022-06-04 19:38:15.754506: I tensorflow/stream_executor/platform/default/dso_loader.cc:44] Successfully opened dynamic library libcudnn.so.7\n",
            "2022-06-04 19:38:15.754584: I tensorflow/stream_executor/cuda/cuda_gpu_executor.cc:981] successful NUMA node read from SysFS had negative value (-1), but there must be at least one NUMA node, so returning NUMA node zero\n",
            "2022-06-04 19:38:15.755178: I tensorflow/stream_executor/cuda/cuda_gpu_executor.cc:981] successful NUMA node read from SysFS had negative value (-1), but there must be at least one NUMA node, so returning NUMA node zero\n",
            "2022-06-04 19:38:15.755717: I tensorflow/core/common_runtime/gpu/gpu_device.cc:1703] Adding visible gpu devices: 0\n",
            "2022-06-04 19:38:15.755826: I tensorflow/stream_executor/platform/default/dso_loader.cc:44] Successfully opened dynamic library libcudart.so.10.1\n",
            "2022-06-04 19:38:15.757214: I tensorflow/core/common_runtime/gpu/gpu_device.cc:1102] Device interconnect StreamExecutor with strength 1 edge matrix:\n",
            "2022-06-04 19:38:15.757241: I tensorflow/core/common_runtime/gpu/gpu_device.cc:1108]      0 \n",
            "2022-06-04 19:38:15.757253: I tensorflow/core/common_runtime/gpu/gpu_device.cc:1121] 0:   N \n",
            "2022-06-04 19:38:15.757360: I tensorflow/stream_executor/cuda/cuda_gpu_executor.cc:981] successful NUMA node read from SysFS had negative value (-1), but there must be at least one NUMA node, so returning NUMA node zero\n",
            "2022-06-04 19:38:15.757940: I tensorflow/stream_executor/cuda/cuda_gpu_executor.cc:981] successful NUMA node read from SysFS had negative value (-1), but there must be at least one NUMA node, so returning NUMA node zero\n",
            "2022-06-04 19:38:15.758449: W tensorflow/core/common_runtime/gpu/gpu_bfc_allocator.cc:39] Overriding allow_growth setting because the TF_FORCE_GPU_ALLOW_GROWTH environment variable is set. Original config value was 0.\n",
            "2022-06-04 19:38:15.758489: I tensorflow/core/common_runtime/gpu/gpu_device.cc:1247] Created TensorFlow device (/job:localhost/replica:0/task:0/device:GPU:0 with 14107 MB memory) -> physical GPU (device: 0, name: Tesla T4, pci bus id: 0000:00:04.0, compute capability: 7.5)\n",
            "Model: \"model\"\n",
            "__________________________________________________________________________________________________\n",
            "Layer (type)                    Output Shape         Param #     Connected to                     \n",
            "==================================================================================================\n",
            "input_layer (InputLayer)        [(None, 100)]        0                                            \n",
            "__________________________________________________________________________________________________\n",
            "reshape (Reshape)               (None, 100, 1)       0           input_layer[0][0]                \n",
            "__________________________________________________________________________________________________\n",
            "LocallyDirected_0 (LocallyDirec (None, 10, 1)        110         reshape[0][0]                    \n",
            "__________________________________________________________________________________________________\n",
            "activation (Activation)         (None, 10, 1)        0           LocallyDirected_0[0][0]          \n",
            "__________________________________________________________________________________________________\n",
            "batch_normalization (BatchNorma (None, 10, 1)        2           activation[0][0]                 \n",
            "__________________________________________________________________________________________________\n",
            "flatten (Flatten)               (None, 10)           0           batch_normalization[0][0]        \n",
            "__________________________________________________________________________________________________\n",
            "output_layer (Dense)            (None, 1)            11          flatten[0][0]                    \n",
            "__________________________________________________________________________________________________\n",
            "inputs_cov (InputLayer)         [(None, 0)]          0                                            \n",
            "__________________________________________________________________________________________________\n",
            "activation_1 (Activation)       (None, 1)            0           output_layer[0][0]               \n",
            "==================================================================================================\n",
            "Total params: 123\n",
            "Trainable params: 121\n",
            "Non-trainable params: 2\n",
            "__________________________________________________________________________________________________\n",
            "None\n",
            "Model already Trained\n",
            "Finished\n",
            "Analysis over the validation set\n",
            "WARNING:tensorflow:From /content/GenNet/GenNet_utils/Train_network.py:177: Model.predict_generator (from tensorflow.python.keras.engine.training) is deprecated and will be removed in a future version.\n",
            "Instructions for updating:\n",
            "Please use Model.predict, which supports generators.\n",
            "2022-06-04 19:38:16.632092: I tensorflow/stream_executor/platform/default/dso_loader.cc:44] Successfully opened dynamic library libcublas.so.10\n",
            "\n",
            "\n",
            "Confusion matrix\n",
            "[[1612    0]\n",
            " [   0  388]]\n",
            "\n",
            "\n",
            "Area under the Curve (AUC) =  1.0\n",
            "Specificity =  1.0\n",
            "Sensitivity =  1.0\n",
            "F_1 score = 1.0\n",
            "Analysis over the test set\n",
            "\n",
            "\n",
            "Confusion matrix\n",
            "[[1592    0]\n",
            " [   0  408]]\n",
            "\n",
            "\n",
            "Area under the Curve (AUC) =  1.0\n",
            "Specificity =  1.0\n",
            "Sensitivity =  1.0\n",
            "F_1 score = 1.0\n"
          ]
        }
      ]
    },
    {
      "cell_type": "code",
      "source": [
        ""
      ],
      "metadata": {
        "id": "9hVSv-14UtU9"
      },
      "execution_count": 14,
      "outputs": []
    },
    {
      "cell_type": "code",
      "source": [
        " "
      ],
      "metadata": {
        "id": "QAoUj0l4uwzt"
      },
      "execution_count": 14,
      "outputs": []
    }
  ],
  "metadata": {
    "accelerator": "GPU",
    "colab": {
      "collapsed_sections": [
        "pVVcszrcJ1ci",
        "XJuogYZc4EvP",
        "cY3wPiBasjRa"
      ],
      "name": "GenNet A to Z",
      "provenance": [],
      "include_colab_link": true
    },
    "kernelspec": {
      "display_name": "Python 3",
      "name": "python3"
    },
    "language_info": {
      "name": "python"
    }
  },
  "nbformat": 4,
  "nbformat_minor": 0
}
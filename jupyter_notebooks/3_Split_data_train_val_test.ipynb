{
 "cells": [
  {
   "cell_type": "code",
   "execution_count": null,
   "metadata": {},
   "outputs": [],
   "source": [
    "import numpy as np\n",
    "import pandas as pd\n",
    "import sys\n",
    "import os\n",
    "import matplotlib.pyplot as plt\n",
    "%matplotlib inline\n",
    "import scipy\n",
    "import h5py\n",
    "import tables\n",
    "import glob\n",
    "import tables\n",
    "import tqdm\n",
    "import re\n",
    "\n",
    "np.random.seed(10)\n",
    "basepath = os.path.dirname(os.getcwd()) + \"/\"\n",
    "hasepath = basepath + \"/hase/\"\n",
    "savepath = basepath + \"/processed_data/\"\n",
    "studyname = str(np.load(savepath + \"studyname.npy\"))"
   ]
  },
  {
   "cell_type": "markdown",
   "metadata": {},
   "source": [
    "# Split Dataset"
   ]
  },
  {
   "cell_type": "markdown",
   "metadata": {},
   "source": [
    "This is merely an example since there is a wide variety in how phenotype is registered. We assume here an csv file with the same patient ordering as in the genotype file."
   ]
  },
  {
   "cell_type": "code",
   "execution_count": null,
   "metadata": {},
   "outputs": [],
   "source": [
    "df_pheno = pd.read_csv(datapath + \"phenotype_file.csv\")"
   ]
  },
  {
   "cell_type": "code",
   "execution_count": null,
   "metadata": {},
   "outputs": [],
   "source": [
    "# if there is the same ordering as in the genotype matrix the following can be used:\n",
    "\n",
    "df_pheno[\"tot_index\"] = np.arange(len(df_pheno))\n",
    "\n",
    "# otherwise make sure that there exists a column 'tot_index' with the correct indices for the genotype file."
   ]
  },
  {
   "cell_type": "code",
   "execution_count": null,
   "metadata": {},
   "outputs": [],
   "source": [
    "# df pheno should have the following stucture\n",
    "\n",
    "\n",
    "# regular_identifyer | phenotype 1/0 yes/no | tot_index\n",
    "#------------------------------------------\n",
    "#  124141            |  1                   | 0\n",
    "#  124122            |  1                   | 1\n",
    "#  132333            |  0                   | 5\n"
   ]
  },
  {
   "cell_type": "code",
   "execution_count": null,
   "metadata": {},
   "outputs": [],
   "source": [
    "print(\"phenotype all\",df_pheno.shape)\n",
    "df_pheno.head()"
   ]
  },
  {
   "cell_type": "code",
   "execution_count": null,
   "metadata": {},
   "outputs": [],
   "source": [
    "\n",
    "\n",
    "\n",
    "print(\"never smokers = \",sum(df_pheno[\"Smoking\"] == 0))\n",
    "print(\"former smokers = \",sum(df_pheno[\"Smoking\"] == 1))\n",
    "print(\"current smokers = \",sum(df_pheno[\"Smoking\"] == 2))\n",
    "df_pheno[\"labels\"] =(df_pheno[\"Smoking\"]>0)*1 \n",
    "print(\"ever smoked =\", sum(df_pheno[\"labels\"]))\n",
    "    \n"
   ]
  },
  {
   "cell_type": "code",
   "execution_count": null,
   "metadata": {},
   "outputs": [],
   "source": [
    "#  Split cases\n",
    "df_case = df_pheno[df_pheno[\"labels\"] == 1]\n",
    "df_pheno_train = df_case.sample(frac = 0.6, random_state=0)\n",
    "restdata = df_case.loc[~df_case.index.isin(df_pheno_train.index)]\n",
    "df_pheno_val = restdata.sample(frac=0.5, random_state=0)\n",
    "df_pheno_test = restdata.loc[~restdata.index.isin(df_pheno_val.index)]\n",
    "\n",
    "#  Split controls\n",
    "df_control = df_pheno[(df_pheno[\"labels\"] == 0) ]\n",
    "df_control_train = df_control.sample(frac = 0.6, random_state=0)\n",
    "restdata = df_control.loc[~df_control.index.isin(df_control_train.index)]\n",
    "df_control_val = restdata.sample(frac =0.5, random_state=0)\n",
    "df_control_test = restdata.loc[~restdata.index.isin(df_control_val.index)]\n",
    "\n",
    "ytrain_pheno = pd.concat([df_pheno_train, df_control_train])\n",
    "yval_pheno = pd.concat([df_pheno_val, df_control_val])\n",
    "ytest_pheno = pd.concat([df_pheno_test, df_control_test])"
   ]
  },
  {
   "cell_type": "code",
   "execution_count": null,
   "metadata": {},
   "outputs": [],
   "source": [
    "ytrain_pheno.to_csv(datapath +  \"/ytrain_\"+studyname+\".csv\")\n",
    "yval_pheno.to_csv(datapath + \"/yval_\"+studyname+\".csv\")\n",
    "ytest_pheno.to_csv(datapath + \"/ytest_\"+studyname+\".csv\")"
   ]
  },
  {
   "cell_type": "code",
   "execution_count": null,
   "metadata": {},
   "outputs": [],
   "source": [
    "print(\"total = \",ytrain_pheno.shape)\n",
    "print(\"class 1 = \",ytrain_pheno[\"labels\"].sum())\n",
    "print(\"class 0 = \",sum(ytrain_pheno[\"labels\"] == 0))\n",
    "print(\"ratio = \", 1/ (ytrain_pheno[\"labels\"].sum()/ ytrain_pheno.shape[0]) )"
   ]
  },
  {
   "cell_type": "code",
   "execution_count": null,
   "metadata": {},
   "outputs": [],
   "source": [
    "print(\"total = \",yval_pheno.shape)\n",
    "print(\"class 1 = \",yval_pheno[\"labels\"].sum())\n",
    "print(\"class 0 = \",sum(yval_pheno[\"labels\"]==0))\n",
    "print(\"ratio = \", 1/(yval_pheno[\"labels\"].sum() / yval_pheno.shape[0]) )"
   ]
  },
  {
   "cell_type": "code",
   "execution_count": null,
   "metadata": {},
   "outputs": [],
   "source": [
    "print(\"total = \",ytest_pheno.shape)\n",
    "print(\"class 1 = \", ytest_pheno[\"labels\"].sum())\n",
    "print(\"class 0 = \",sum(ytest_pheno[\"labels\"]==0))\n",
    "print(\"ratio = \",1/(ytest_pheno[\"labels\"].sum() /  ytest_pheno.shape[0] ) )"
   ]
  }
 ],
 "metadata": {
  "kernelspec": {
   "display_name": "multiomics",
   "language": "python",
   "name": "multiomics"
  },
  "language_info": {
   "codemirror_mode": {
    "name": "ipython",
    "version": 3
   },
   "file_extension": ".py",
   "mimetype": "text/x-python",
   "name": "python",
   "nbconvert_exporter": "python",
   "pygments_lexer": "ipython3",
   "version": "3.5.2"
  }
 },
 "nbformat": 4,
 "nbformat_minor": 4
}

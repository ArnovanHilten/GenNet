{
  "cells": [
    {
      "cell_type": "markdown",
      "metadata": {
        "id": "view-in-github",
        "colab_type": "text"
      },
      "source": [
        "<a href=\"https://colab.research.google.com/github/ArnovanHilten/GenNet/blob/dev/GenNet_A_to_Z.ipynb\" target=\"_parent\"><img src=\"https://colab.research.google.com/assets/colab-badge.svg\" alt=\"Open In Colab\"/></a>"
      ]
    },
    {
      "cell_type": "markdown",
      "source": [
        "**To start the tutoria:**\n",
        "Click `file > Save a copy` in drive to save a copy in your own drive for full permisison."
      ],
      "metadata": {
        "id": "1QIIHVLbrOHV"
      }
    },
    {
      "cell_type": "markdown",
      "metadata": {
        "id": "u0zNE8cvnaBp"
      },
      "source": [
        "# Installing GenNet"
      ]
    },
    {
      "cell_type": "markdown",
      "source": [
        "All comments cells that open with **%%bash** are inputs for the command line.\n",
        "\n",
        "The requirements for GenNet can be found in the README of the github: https://github.com/ArnovanHilten/GenNet\n",
        "\n",
        "**Note:** Gennet can run using CPU and GPU. If you want to use GenNet with your GPU you need to ensure that you have CUDA installed that works with the tensorflow version."
      ],
      "metadata": {
        "id": "hwVxfoX_n4Ky"
      }
    },
    {
      "cell_type": "code",
      "execution_count": null,
      "metadata": {
        "colab": {
          "base_uri": "https://localhost:8080/"
        },
        "id": "Bsr7IHGEl9M_",
        "outputId": "6e066508-db79-4d6b-b88a-10e320abf098"
      },
      "outputs": [
        {
          "output_type": "stream",
          "name": "stderr",
          "text": [
            "fatal: destination path 'GenNet' already exists and is not an empty directory.\n"
          ]
        }
      ],
      "source": [
        "%%bash\n",
        "git clone -b dev https://github.com/ArnovanHilten/GenNet.git  # Cloning the repositorie"
      ]
    },
    {
      "cell_type": "markdown",
      "source": [
        "Move into the GenNet directory"
      ],
      "metadata": {
        "id": "L8sqIS_zygOc"
      }
    },
    {
      "cell_type": "code",
      "source": [
        "%cd GenNet"
      ],
      "metadata": {
        "colab": {
          "base_uri": "https://localhost:8080/"
        },
        "id": "Mj1V33BIyY1L",
        "outputId": "bdb33fe4-ca9d-4e1c-ba80-f0bd6ee947ef"
      },
      "execution_count": null,
      "outputs": [
        {
          "output_type": "stream",
          "name": "stdout",
          "text": [
            "/content/GenNet\n"
          ]
        }
      ]
    },
    {
      "cell_type": "markdown",
      "source": [
        "Install the requirements"
      ],
      "metadata": {
        "id": "S-Gmfen7yjj-"
      }
    },
    {
      "cell_type": "code",
      "execution_count": null,
      "metadata": {
        "colab": {
          "base_uri": "https://localhost:8080/"
        },
        "id": "HgOeF5vUmEe9",
        "outputId": "b53a081f-f6ec-46a3-b1a1-3f8ffd77c340",
        "cellView": "code"
      },
      "outputs": [
        {
          "output_type": "stream",
          "name": "stdout",
          "text": [
            "Looking in indexes: https://pypi.org/simple, https://us-python.pkg.dev/colab-wheels/public/simple/\n",
            "Requirement already satisfied: pip in /usr/local/lib/python3.7/dist-packages (22.1.1)\n",
            "Looking in indexes: https://pypi.org/simple, https://us-python.pkg.dev/colab-wheels/public/simple/\n",
            "Requirement already satisfied: h5py>=2.10.0 in /usr/local/lib/python3.7/dist-packages (from -r requirements_GenNet.txt (line 1)) (2.10.0)\n",
            "Requirement already satisfied: joblib>=0.16.0 in /usr/local/lib/python3.7/dist-packages (from -r requirements_GenNet.txt (line 2)) (1.1.0)\n",
            "Requirement already satisfied: Markdown>=3.2.1 in /usr/local/lib/python3.7/dist-packages (from -r requirements_GenNet.txt (line 3)) (3.3.7)\n",
            "Requirement already satisfied: matplotlib>=3.3.2 in /usr/local/lib/python3.7/dist-packages (from -r requirements_GenNet.txt (line 4)) (3.5.2)\n",
            "Requirement already satisfied: jupyter>=1.0.0 in /usr/local/lib/python3.7/dist-packages (from -r requirements_GenNet.txt (line 5)) (1.0.0)\n",
            "Requirement already satisfied: numpy>=1.16.0 in /usr/local/lib/python3.7/dist-packages (from -r requirements_GenNet.txt (line 6)) (1.21.6)\n",
            "Requirement already satisfied: pandas>=0.25.3 in /usr/local/lib/python3.7/dist-packages (from -r requirements_GenNet.txt (line 7)) (1.3.5)\n",
            "Requirement already satisfied: Pillow>=7.2.0 in /usr/local/lib/python3.7/dist-packages (from -r requirements_GenNet.txt (line 8)) (9.1.1)\n",
            "Requirement already satisfied: plotly>=4.12.0 in /usr/local/lib/python3.7/dist-packages (from -r requirements_GenNet.txt (line 9)) (5.5.0)\n",
            "Requirement already satisfied: pyparsing>=2.4.7 in /usr/local/lib/python3.7/dist-packages (from -r requirements_GenNet.txt (line 10)) (3.0.9)\n",
            "Requirement already satisfied: scikit-learn>=0.23.2 in /usr/local/lib/python3.7/dist-packages (from -r requirements_GenNet.txt (line 11)) (1.0.2)\n",
            "Requirement already satisfied: scipy>=1.4.1 in /usr/local/lib/python3.7/dist-packages (from -r requirements_GenNet.txt (line 12)) (1.4.1)\n",
            "Requirement already satisfied: seaborn>=0.10.1 in /usr/local/lib/python3.7/dist-packages (from -r requirements_GenNet.txt (line 13)) (0.11.2)\n",
            "Requirement already satisfied: sklearn>=0.0 in /usr/local/lib/python3.7/dist-packages (from -r requirements_GenNet.txt (line 14)) (0.0)\n",
            "Requirement already satisfied: tables>=3.6.1 in /usr/local/lib/python3.7/dist-packages (from -r requirements_GenNet.txt (line 15)) (3.7.0)\n",
            "Requirement already satisfied: tqdm>=4.49.0 in /usr/local/lib/python3.7/dist-packages (from -r requirements_GenNet.txt (line 16)) (4.64.0)\n",
            "Requirement already satisfied: zipp>=3.1.0 in /usr/local/lib/python3.7/dist-packages (from -r requirements_GenNet.txt (line 17)) (3.8.0)\n",
            "Requirement already satisfied: psutil in /usr/local/lib/python3.7/dist-packages (from -r requirements_GenNet.txt (line 18)) (5.4.8)\n",
            "Requirement already satisfied: kaleido in /usr/local/lib/python3.7/dist-packages (from -r requirements_GenNet.txt (line 19)) (0.2.1)\n",
            "Requirement already satisfied: tensorflow==2.2.0 in /usr/local/lib/python3.7/dist-packages (from -r requirements_GenNet.txt (line 20)) (2.2.0)\n",
            "Requirement already satisfied: gast==0.3.3 in /usr/local/lib/python3.7/dist-packages (from tensorflow==2.2.0->-r requirements_GenNet.txt (line 20)) (0.3.3)\n",
            "Requirement already satisfied: opt-einsum>=2.3.2 in /usr/local/lib/python3.7/dist-packages (from tensorflow==2.2.0->-r requirements_GenNet.txt (line 20)) (3.3.0)\n",
            "Requirement already satisfied: protobuf>=3.8.0 in /usr/local/lib/python3.7/dist-packages (from tensorflow==2.2.0->-r requirements_GenNet.txt (line 20)) (3.17.3)\n",
            "Requirement already satisfied: six>=1.12.0 in /usr/local/lib/python3.7/dist-packages (from tensorflow==2.2.0->-r requirements_GenNet.txt (line 20)) (1.15.0)\n",
            "Requirement already satisfied: wheel>=0.26 in /usr/local/lib/python3.7/dist-packages (from tensorflow==2.2.0->-r requirements_GenNet.txt (line 20)) (0.37.1)\n",
            "Requirement already satisfied: absl-py>=0.7.0 in /usr/local/lib/python3.7/dist-packages (from tensorflow==2.2.0->-r requirements_GenNet.txt (line 20)) (1.0.0)\n",
            "Requirement already satisfied: grpcio>=1.8.6 in /usr/local/lib/python3.7/dist-packages (from tensorflow==2.2.0->-r requirements_GenNet.txt (line 20)) (1.46.1)\n",
            "Requirement already satisfied: astunparse==1.6.3 in /usr/local/lib/python3.7/dist-packages (from tensorflow==2.2.0->-r requirements_GenNet.txt (line 20)) (1.6.3)\n",
            "Requirement already satisfied: tensorboard<2.3.0,>=2.2.0 in /usr/local/lib/python3.7/dist-packages (from tensorflow==2.2.0->-r requirements_GenNet.txt (line 20)) (2.2.2)\n",
            "Requirement already satisfied: tensorflow-estimator<2.3.0,>=2.2.0 in /usr/local/lib/python3.7/dist-packages (from tensorflow==2.2.0->-r requirements_GenNet.txt (line 20)) (2.2.0)\n",
            "Requirement already satisfied: google-pasta>=0.1.8 in /usr/local/lib/python3.7/dist-packages (from tensorflow==2.2.0->-r requirements_GenNet.txt (line 20)) (0.2.0)\n",
            "Requirement already satisfied: keras-preprocessing>=1.1.0 in /usr/local/lib/python3.7/dist-packages (from tensorflow==2.2.0->-r requirements_GenNet.txt (line 20)) (1.1.2)\n",
            "Requirement already satisfied: termcolor>=1.1.0 in /usr/local/lib/python3.7/dist-packages (from tensorflow==2.2.0->-r requirements_GenNet.txt (line 20)) (1.1.0)\n",
            "Requirement already satisfied: wrapt>=1.11.1 in /usr/local/lib/python3.7/dist-packages (from tensorflow==2.2.0->-r requirements_GenNet.txt (line 20)) (1.14.1)\n",
            "Requirement already satisfied: importlib-metadata>=4.4 in /usr/local/lib/python3.7/dist-packages (from Markdown>=3.2.1->-r requirements_GenNet.txt (line 3)) (4.11.3)\n",
            "Requirement already satisfied: kiwisolver>=1.0.1 in /usr/local/lib/python3.7/dist-packages (from matplotlib>=3.3.2->-r requirements_GenNet.txt (line 4)) (1.4.2)\n",
            "Requirement already satisfied: fonttools>=4.22.0 in /usr/local/lib/python3.7/dist-packages (from matplotlib>=3.3.2->-r requirements_GenNet.txt (line 4)) (4.33.3)\n",
            "Requirement already satisfied: python-dateutil>=2.7 in /usr/local/lib/python3.7/dist-packages (from matplotlib>=3.3.2->-r requirements_GenNet.txt (line 4)) (2.8.2)\n",
            "Requirement already satisfied: packaging>=20.0 in /usr/local/lib/python3.7/dist-packages (from matplotlib>=3.3.2->-r requirements_GenNet.txt (line 4)) (21.3)\n",
            "Requirement already satisfied: cycler>=0.10 in /usr/local/lib/python3.7/dist-packages (from matplotlib>=3.3.2->-r requirements_GenNet.txt (line 4)) (0.11.0)\n",
            "Requirement already satisfied: nbconvert in /usr/local/lib/python3.7/dist-packages (from jupyter>=1.0.0->-r requirements_GenNet.txt (line 5)) (5.6.1)\n",
            "Requirement already satisfied: jupyter-console in /usr/local/lib/python3.7/dist-packages (from jupyter>=1.0.0->-r requirements_GenNet.txt (line 5)) (5.2.0)\n",
            "Requirement already satisfied: ipywidgets in /usr/local/lib/python3.7/dist-packages (from jupyter>=1.0.0->-r requirements_GenNet.txt (line 5)) (7.7.0)\n",
            "Requirement already satisfied: ipykernel in /usr/local/lib/python3.7/dist-packages (from jupyter>=1.0.0->-r requirements_GenNet.txt (line 5)) (4.10.1)\n",
            "Requirement already satisfied: qtconsole in /usr/local/lib/python3.7/dist-packages (from jupyter>=1.0.0->-r requirements_GenNet.txt (line 5)) (5.3.0)\n",
            "Requirement already satisfied: notebook in /usr/local/lib/python3.7/dist-packages (from jupyter>=1.0.0->-r requirements_GenNet.txt (line 5)) (5.3.1)\n",
            "Requirement already satisfied: pytz>=2017.3 in /usr/local/lib/python3.7/dist-packages (from pandas>=0.25.3->-r requirements_GenNet.txt (line 7)) (2022.1)\n",
            "Requirement already satisfied: tenacity>=6.2.0 in /usr/local/lib/python3.7/dist-packages (from plotly>=4.12.0->-r requirements_GenNet.txt (line 9)) (8.0.1)\n",
            "Requirement already satisfied: threadpoolctl>=2.0.0 in /usr/local/lib/python3.7/dist-packages (from scikit-learn>=0.23.2->-r requirements_GenNet.txt (line 11)) (3.1.0)\n",
            "Requirement already satisfied: numexpr>=2.6.2 in /usr/local/lib/python3.7/dist-packages (from tables>=3.6.1->-r requirements_GenNet.txt (line 15)) (2.8.1)\n",
            "Requirement already satisfied: typing-extensions>=3.6.4 in /usr/local/lib/python3.7/dist-packages (from importlib-metadata>=4.4->Markdown>=3.2.1->-r requirements_GenNet.txt (line 3)) (4.2.0)\n",
            "Requirement already satisfied: google-auth<2,>=1.6.3 in /usr/local/lib/python3.7/dist-packages (from tensorboard<2.3.0,>=2.2.0->tensorflow==2.2.0->-r requirements_GenNet.txt (line 20)) (1.35.0)\n",
            "Requirement already satisfied: google-auth-oauthlib<0.5,>=0.4.1 in /usr/local/lib/python3.7/dist-packages (from tensorboard<2.3.0,>=2.2.0->tensorflow==2.2.0->-r requirements_GenNet.txt (line 20)) (0.4.6)\n",
            "Requirement already satisfied: requests<3,>=2.21.0 in /usr/local/lib/python3.7/dist-packages (from tensorboard<2.3.0,>=2.2.0->tensorflow==2.2.0->-r requirements_GenNet.txt (line 20)) (2.23.0)\n",
            "Requirement already satisfied: setuptools>=41.0.0 in /usr/local/lib/python3.7/dist-packages (from tensorboard<2.3.0,>=2.2.0->tensorflow==2.2.0->-r requirements_GenNet.txt (line 20)) (57.4.0)\n",
            "Requirement already satisfied: tensorboard-plugin-wit>=1.6.0 in /usr/local/lib/python3.7/dist-packages (from tensorboard<2.3.0,>=2.2.0->tensorflow==2.2.0->-r requirements_GenNet.txt (line 20)) (1.8.1)\n",
            "Requirement already satisfied: werkzeug>=0.11.15 in /usr/local/lib/python3.7/dist-packages (from tensorboard<2.3.0,>=2.2.0->tensorflow==2.2.0->-r requirements_GenNet.txt (line 20)) (1.0.1)\n",
            "Requirement already satisfied: ipython>=4.0.0 in /usr/local/lib/python3.7/dist-packages (from ipykernel->jupyter>=1.0.0->-r requirements_GenNet.txt (line 5)) (5.5.0)\n",
            "Requirement already satisfied: traitlets>=4.1.0 in /usr/local/lib/python3.7/dist-packages (from ipykernel->jupyter>=1.0.0->-r requirements_GenNet.txt (line 5)) (5.1.1)\n",
            "Requirement already satisfied: tornado>=4.0 in /usr/local/lib/python3.7/dist-packages (from ipykernel->jupyter>=1.0.0->-r requirements_GenNet.txt (line 5)) (5.1.1)\n",
            "Requirement already satisfied: jupyter-client in /usr/local/lib/python3.7/dist-packages (from ipykernel->jupyter>=1.0.0->-r requirements_GenNet.txt (line 5)) (5.3.5)\n",
            "Requirement already satisfied: ipython-genutils~=0.2.0 in /usr/local/lib/python3.7/dist-packages (from ipywidgets->jupyter>=1.0.0->-r requirements_GenNet.txt (line 5)) (0.2.0)\n",
            "Requirement already satisfied: jupyterlab-widgets>=1.0.0 in /usr/local/lib/python3.7/dist-packages (from ipywidgets->jupyter>=1.0.0->-r requirements_GenNet.txt (line 5)) (1.1.0)\n",
            "Requirement already satisfied: widgetsnbextension~=3.6.0 in /usr/local/lib/python3.7/dist-packages (from ipywidgets->jupyter>=1.0.0->-r requirements_GenNet.txt (line 5)) (3.6.0)\n",
            "Requirement already satisfied: nbformat>=4.2.0 in /usr/local/lib/python3.7/dist-packages (from ipywidgets->jupyter>=1.0.0->-r requirements_GenNet.txt (line 5)) (5.4.0)\n",
            "Requirement already satisfied: pygments in /usr/local/lib/python3.7/dist-packages (from jupyter-console->jupyter>=1.0.0->-r requirements_GenNet.txt (line 5)) (2.6.1)\n",
            "Requirement already satisfied: prompt-toolkit<2.0.0,>=1.0.0 in /usr/local/lib/python3.7/dist-packages (from jupyter-console->jupyter>=1.0.0->-r requirements_GenNet.txt (line 5)) (1.0.18)\n",
            "Requirement already satisfied: jinja2>=2.4 in /usr/local/lib/python3.7/dist-packages (from nbconvert->jupyter>=1.0.0->-r requirements_GenNet.txt (line 5)) (2.11.3)\n",
            "Requirement already satisfied: bleach in /usr/local/lib/python3.7/dist-packages (from nbconvert->jupyter>=1.0.0->-r requirements_GenNet.txt (line 5)) (5.0.0)\n",
            "Requirement already satisfied: defusedxml in /usr/local/lib/python3.7/dist-packages (from nbconvert->jupyter>=1.0.0->-r requirements_GenNet.txt (line 5)) (0.7.1)\n",
            "Requirement already satisfied: mistune<2,>=0.8.1 in /usr/local/lib/python3.7/dist-packages (from nbconvert->jupyter>=1.0.0->-r requirements_GenNet.txt (line 5)) (0.8.4)\n",
            "Requirement already satisfied: entrypoints>=0.2.2 in /usr/local/lib/python3.7/dist-packages (from nbconvert->jupyter>=1.0.0->-r requirements_GenNet.txt (line 5)) (0.4)\n",
            "Requirement already satisfied: pandocfilters>=1.4.1 in /usr/local/lib/python3.7/dist-packages (from nbconvert->jupyter>=1.0.0->-r requirements_GenNet.txt (line 5)) (1.5.0)\n",
            "Requirement already satisfied: jupyter-core in /usr/local/lib/python3.7/dist-packages (from nbconvert->jupyter>=1.0.0->-r requirements_GenNet.txt (line 5)) (4.10.0)\n",
            "Requirement already satisfied: testpath in /usr/local/lib/python3.7/dist-packages (from nbconvert->jupyter>=1.0.0->-r requirements_GenNet.txt (line 5)) (0.6.0)\n",
            "Requirement already satisfied: Send2Trash in /usr/local/lib/python3.7/dist-packages (from notebook->jupyter>=1.0.0->-r requirements_GenNet.txt (line 5)) (1.8.0)\n",
            "Requirement already satisfied: terminado>=0.8.1 in /usr/local/lib/python3.7/dist-packages (from notebook->jupyter>=1.0.0->-r requirements_GenNet.txt (line 5)) (0.13.3)\n",
            "Requirement already satisfied: qtpy>=2.0.1 in /usr/local/lib/python3.7/dist-packages (from qtconsole->jupyter>=1.0.0->-r requirements_GenNet.txt (line 5)) (2.1.0)\n",
            "Requirement already satisfied: pyzmq>=17.1 in /usr/local/lib/python3.7/dist-packages (from qtconsole->jupyter>=1.0.0->-r requirements_GenNet.txt (line 5)) (23.0.0)\n",
            "Requirement already satisfied: cachetools<5.0,>=2.0.0 in /usr/local/lib/python3.7/dist-packages (from google-auth<2,>=1.6.3->tensorboard<2.3.0,>=2.2.0->tensorflow==2.2.0->-r requirements_GenNet.txt (line 20)) (4.2.4)\n",
            "Requirement already satisfied: pyasn1-modules>=0.2.1 in /usr/local/lib/python3.7/dist-packages (from google-auth<2,>=1.6.3->tensorboard<2.3.0,>=2.2.0->tensorflow==2.2.0->-r requirements_GenNet.txt (line 20)) (0.2.8)\n",
            "Requirement already satisfied: rsa<5,>=3.1.4 in /usr/local/lib/python3.7/dist-packages (from google-auth<2,>=1.6.3->tensorboard<2.3.0,>=2.2.0->tensorflow==2.2.0->-r requirements_GenNet.txt (line 20)) (4.8)\n",
            "Requirement already satisfied: requests-oauthlib>=0.7.0 in /usr/local/lib/python3.7/dist-packages (from google-auth-oauthlib<0.5,>=0.4.1->tensorboard<2.3.0,>=2.2.0->tensorflow==2.2.0->-r requirements_GenNet.txt (line 20)) (1.3.1)\n",
            "Requirement already satisfied: pickleshare in /usr/local/lib/python3.7/dist-packages (from ipython>=4.0.0->ipykernel->jupyter>=1.0.0->-r requirements_GenNet.txt (line 5)) (0.7.5)\n",
            "Requirement already satisfied: decorator in /usr/local/lib/python3.7/dist-packages (from ipython>=4.0.0->ipykernel->jupyter>=1.0.0->-r requirements_GenNet.txt (line 5)) (4.4.2)\n",
            "Requirement already satisfied: pexpect in /usr/local/lib/python3.7/dist-packages (from ipython>=4.0.0->ipykernel->jupyter>=1.0.0->-r requirements_GenNet.txt (line 5)) (4.8.0)\n",
            "Requirement already satisfied: simplegeneric>0.8 in /usr/local/lib/python3.7/dist-packages (from ipython>=4.0.0->ipykernel->jupyter>=1.0.0->-r requirements_GenNet.txt (line 5)) (0.8.1)\n",
            "Requirement already satisfied: MarkupSafe>=0.23 in /usr/local/lib/python3.7/dist-packages (from jinja2>=2.4->nbconvert->jupyter>=1.0.0->-r requirements_GenNet.txt (line 5)) (2.0.1)\n",
            "Requirement already satisfied: jsonschema>=2.6 in /usr/local/lib/python3.7/dist-packages (from nbformat>=4.2.0->ipywidgets->jupyter>=1.0.0->-r requirements_GenNet.txt (line 5)) (4.3.3)\n",
            "Requirement already satisfied: fastjsonschema in /usr/local/lib/python3.7/dist-packages (from nbformat>=4.2.0->ipywidgets->jupyter>=1.0.0->-r requirements_GenNet.txt (line 5)) (2.15.3)\n",
            "Requirement already satisfied: wcwidth in /usr/local/lib/python3.7/dist-packages (from prompt-toolkit<2.0.0,>=1.0.0->jupyter-console->jupyter>=1.0.0->-r requirements_GenNet.txt (line 5)) (0.2.5)\n",
            "Requirement already satisfied: urllib3!=1.25.0,!=1.25.1,<1.26,>=1.21.1 in /usr/local/lib/python3.7/dist-packages (from requests<3,>=2.21.0->tensorboard<2.3.0,>=2.2.0->tensorflow==2.2.0->-r requirements_GenNet.txt (line 20)) (1.24.3)\n",
            "Requirement already satisfied: chardet<4,>=3.0.2 in /usr/local/lib/python3.7/dist-packages (from requests<3,>=2.21.0->tensorboard<2.3.0,>=2.2.0->tensorflow==2.2.0->-r requirements_GenNet.txt (line 20)) (3.0.4)\n",
            "Requirement already satisfied: certifi>=2017.4.17 in /usr/local/lib/python3.7/dist-packages (from requests<3,>=2.21.0->tensorboard<2.3.0,>=2.2.0->tensorflow==2.2.0->-r requirements_GenNet.txt (line 20)) (2022.5.18.1)\n",
            "Requirement already satisfied: idna<3,>=2.5 in /usr/local/lib/python3.7/dist-packages (from requests<3,>=2.21.0->tensorboard<2.3.0,>=2.2.0->tensorflow==2.2.0->-r requirements_GenNet.txt (line 20)) (2.10)\n",
            "Requirement already satisfied: ptyprocess in /usr/local/lib/python3.7/dist-packages (from terminado>=0.8.1->notebook->jupyter>=1.0.0->-r requirements_GenNet.txt (line 5)) (0.7.0)\n",
            "Requirement already satisfied: webencodings in /usr/local/lib/python3.7/dist-packages (from bleach->nbconvert->jupyter>=1.0.0->-r requirements_GenNet.txt (line 5)) (0.5.1)\n",
            "Requirement already satisfied: attrs>=17.4.0 in /usr/local/lib/python3.7/dist-packages (from jsonschema>=2.6->nbformat>=4.2.0->ipywidgets->jupyter>=1.0.0->-r requirements_GenNet.txt (line 5)) (21.4.0)\n",
            "Requirement already satisfied: pyrsistent!=0.17.0,!=0.17.1,!=0.17.2,>=0.14.0 in /usr/local/lib/python3.7/dist-packages (from jsonschema>=2.6->nbformat>=4.2.0->ipywidgets->jupyter>=1.0.0->-r requirements_GenNet.txt (line 5)) (0.18.1)\n",
            "Requirement already satisfied: importlib-resources>=1.4.0 in /usr/local/lib/python3.7/dist-packages (from jsonschema>=2.6->nbformat>=4.2.0->ipywidgets->jupyter>=1.0.0->-r requirements_GenNet.txt (line 5)) (5.7.1)\n",
            "Requirement already satisfied: pyasn1<0.5.0,>=0.4.6 in /usr/local/lib/python3.7/dist-packages (from pyasn1-modules>=0.2.1->google-auth<2,>=1.6.3->tensorboard<2.3.0,>=2.2.0->tensorflow==2.2.0->-r requirements_GenNet.txt (line 20)) (0.4.8)\n",
            "Requirement already satisfied: oauthlib>=3.0.0 in /usr/local/lib/python3.7/dist-packages (from requests-oauthlib>=0.7.0->google-auth-oauthlib<0.5,>=0.4.1->tensorboard<2.3.0,>=2.2.0->tensorflow==2.2.0->-r requirements_GenNet.txt (line 20)) (3.2.0)\n"
          ]
        },
        {
          "output_type": "stream",
          "name": "stderr",
          "text": [
            "WARNING: Running pip as the 'root' user can result in broken permissions and conflicting behaviour with the system package manager. It is recommended to use a virtual environment instead: https://pip.pypa.io/warnings/venv\n",
            "WARNING: Running pip as the 'root' user can result in broken permissions and conflicting behaviour with the system package manager. It is recommended to use a virtual environment instead: https://pip.pypa.io/warnings/venv\n"
          ]
        }
      ],
      "source": [
        "#@title Default title text\n",
        "%%bash\n",
        " # navigate to the created folder\n",
        "pip3 install --upgrade pip  # update pip is recommended but not a necessity\n",
        "pip3 install -r requirements_GenNet.txt # install all the requirementes voor GenNet."
      ]
    },
    {
      "cell_type": "code",
      "source": [
        "!pip install bitarray"
      ],
      "metadata": {
        "colab": {
          "base_uri": "https://localhost:8080/"
        },
        "collapsed": true,
        "id": "5ZSMW-ZlyzDX",
        "outputId": "c744c8ef-6198-46a3-bdeb-0cd6b7eaa1a9"
      },
      "execution_count": null,
      "outputs": [
        {
          "output_type": "stream",
          "name": "stdout",
          "text": [
            "Looking in indexes: https://pypi.org/simple, https://us-python.pkg.dev/colab-wheels/public/simple/\n",
            "Requirement already satisfied: bitarray in /usr/local/lib/python3.7/dist-packages (2.5.1)\n",
            "\u001b[33mWARNING: Running pip as the 'root' user can result in broken permissions and conflicting behaviour with the system package manager. It is recommended to use a virtual environment instead: https://pip.pypa.io/warnings/venv\u001b[0m\u001b[33m\n",
            "\u001b[0m"
          ]
        }
      ]
    },
    {
      "cell_type": "markdown",
      "metadata": {
        "id": "2jUVFCproaJS"
      },
      "source": [
        "# Test GenNet installation"
      ]
    },
    {
      "cell_type": "markdown",
      "source": [
        "Running the classification example:\n",
        "\n",
        "\n",
        "*   **-path** is the path to the directory containing the files necessary to run GenNet.\n",
        "*   **-ID is** the experment id. Make this unique for each experiment.\n",
        "\n"
      ],
      "metadata": {
        "id": "KQtFdfm1qQzc"
      }
    },
    {
      "cell_type": "code",
      "source": [
        "%%bash\n",
        "cd GenNet # move into the GenNet folder\n",
        "python GenNet.py train -path ./examples/example_classification/ -ID 9999  # run the classificaiton example."
      ],
      "metadata": {
        "colab": {
          "base_uri": "https://localhost:8080/"
        },
        "collapsed": true,
        "id": "4zh4E5Hvp4x7",
        "outputId": "02c4870e-012f-4319-8e58-fa43d3bf79c9"
      },
      "execution_count": null,
      "outputs": [
        {
          "output_type": "stream",
          "name": "stdout",
          "text": [
            "number of covariates: 0\n",
            "Covariate columns found: []\n",
            "mode is classification\n",
            "weight_possitive_class 1\n",
            "weight_possitive_class 1\n",
            "jobid =  9999\n",
            "folder = GenNet_experiment_9999\n",
            "batchsize = 32\n",
            "lr = 0.001\n",
            "Creating networks from npz masks\n",
            "regression False\n",
            "Model: \"model\"\n",
            "__________________________________________________________________________________________________\n",
            "Layer (type)                    Output Shape         Param #     Connected to                     \n",
            "==================================================================================================\n",
            "input_layer (InputLayer)        [(None, 100)]        0                                            \n",
            "__________________________________________________________________________________________________\n",
            "reshape (Reshape)               (None, 100, 1)       0           input_layer[0][0]                \n",
            "__________________________________________________________________________________________________\n",
            "LocallyDirected_0 (LocallyDirec (None, 10, 1)        110         reshape[0][0]                    \n",
            "__________________________________________________________________________________________________\n",
            "activation (Activation)         (None, 10, 1)        0           LocallyDirected_0[0][0]          \n",
            "__________________________________________________________________________________________________\n",
            "batch_normalization (BatchNorma (None, 10, 1)        2           activation[0][0]                 \n",
            "__________________________________________________________________________________________________\n",
            "LocallyDirected_1 (LocallyDirec (None, 2, 1)         102         batch_normalization[0][0]        \n",
            "__________________________________________________________________________________________________\n",
            "activation_1 (Activation)       (None, 2, 1)         0           LocallyDirected_1[0][0]          \n",
            "__________________________________________________________________________________________________\n",
            "batch_normalization_1 (BatchNor (None, 2, 1)         2           activation_1[0][0]               \n",
            "__________________________________________________________________________________________________\n",
            "flatten (Flatten)               (None, 2)            0           batch_normalization_1[0][0]      \n",
            "__________________________________________________________________________________________________\n",
            "output_layer (Dense)            (None, 1)            3           flatten[0][0]                    \n",
            "__________________________________________________________________________________________________\n",
            "inputs_cov (InputLayer)         [(None, 0)]          0                                            \n",
            "__________________________________________________________________________________________________\n",
            "activation_2 (Activation)       (None, 1)            0           output_layer[0][0]               \n",
            "==================================================================================================\n",
            "Total params: 219\n",
            "Trainable params: 215\n",
            "Non-trainable params: 4\n",
            "__________________________________________________________________________________________________\n",
            "None\n",
            "Model already Trained\n",
            "Finished\n",
            "Analysis over the validation set\n",
            "\n",
            "\n",
            "Confusion matrix\n",
            "[[1650    0]\n",
            " [  13  337]]\n",
            "\n",
            "\n",
            "Area under the Curve (AUC) =  0.9827203463203464\n",
            "Specificity =  1.0\n",
            "Sensitivity =  0.9628571428571429\n",
            "F_1 score = 0.9810771470160117\n",
            "Analysis over the test set\n",
            "\n",
            "\n",
            "Confusion matrix\n",
            "[[1656    0]\n",
            " [  14  330]]\n",
            "\n",
            "\n",
            "Area under the Curve (AUC) =  0.9803120786990227\n",
            "Specificity =  1.0\n",
            "Sensitivity =  0.9593023255813954\n",
            "F_1 score = 0.9792284866468843\n"
          ]
        },
        {
          "output_type": "stream",
          "name": "stderr",
          "text": [
            "bash: line 1: cd: GenNet: No such file or directory\n",
            "2022-05-25 20:42:32.319549: I tensorflow/stream_executor/platform/default/dso_loader.cc:44] Successfully opened dynamic library libcuda.so.1\n",
            "2022-05-25 20:42:32.347799: I tensorflow/stream_executor/cuda/cuda_gpu_executor.cc:981] successful NUMA node read from SysFS had negative value (-1), but there must be at least one NUMA node, so returning NUMA node zero\n",
            "2022-05-25 20:42:32.348495: I tensorflow/core/common_runtime/gpu/gpu_device.cc:1561] Found device 0 with properties: \n",
            "pciBusID: 0000:00:04.0 name: Tesla T4 computeCapability: 7.5\n",
            "coreClock: 1.59GHz coreCount: 40 deviceMemorySize: 14.75GiB deviceMemoryBandwidth: 298.08GiB/s\n",
            "2022-05-25 20:42:32.348811: I tensorflow/stream_executor/platform/default/dso_loader.cc:44] Successfully opened dynamic library libcudart.so.10.1\n",
            "2022-05-25 20:42:32.350315: I tensorflow/stream_executor/platform/default/dso_loader.cc:44] Successfully opened dynamic library libcublas.so.10\n",
            "2022-05-25 20:42:32.350382: I tensorflow/stream_executor/platform/default/dso_loader.cc:44] Successfully opened dynamic library libcufft.so.10\n",
            "2022-05-25 20:42:32.350420: I tensorflow/stream_executor/platform/default/dso_loader.cc:44] Successfully opened dynamic library libcurand.so.10\n",
            "2022-05-25 20:42:32.351997: I tensorflow/stream_executor/platform/default/dso_loader.cc:44] Successfully opened dynamic library libcusolver.so.10\n",
            "2022-05-25 20:42:32.352703: I tensorflow/stream_executor/platform/default/dso_loader.cc:44] Successfully opened dynamic library libcusparse.so.10\n",
            "2022-05-25 20:42:32.356280: I tensorflow/stream_executor/platform/default/dso_loader.cc:44] Successfully opened dynamic library libcudnn.so.7\n",
            "2022-05-25 20:42:32.356381: I tensorflow/stream_executor/cuda/cuda_gpu_executor.cc:981] successful NUMA node read from SysFS had negative value (-1), but there must be at least one NUMA node, so returning NUMA node zero\n",
            "2022-05-25 20:42:32.356951: I tensorflow/stream_executor/cuda/cuda_gpu_executor.cc:981] successful NUMA node read from SysFS had negative value (-1), but there must be at least one NUMA node, so returning NUMA node zero\n",
            "2022-05-25 20:42:32.357592: I tensorflow/core/common_runtime/gpu/gpu_device.cc:1703] Adding visible gpu devices: 0\n",
            "2022-05-25 20:42:32.357859: I tensorflow/core/platform/cpu_feature_guard.cc:143] Your CPU supports instructions that this TensorFlow binary was not compiled to use: AVX2 FMA\n",
            "2022-05-25 20:42:32.362027: I tensorflow/core/platform/profile_utils/cpu_utils.cc:102] CPU Frequency: 2199995000 Hz\n",
            "2022-05-25 20:42:32.362225: I tensorflow/compiler/xla/service/service.cc:168] XLA service 0x23d7640 initialized for platform Host (this does not guarantee that XLA will be used). Devices:\n",
            "2022-05-25 20:42:32.362250: I tensorflow/compiler/xla/service/service.cc:176]   StreamExecutor device (0): Host, Default Version\n",
            "2022-05-25 20:42:32.549071: I tensorflow/stream_executor/cuda/cuda_gpu_executor.cc:981] successful NUMA node read from SysFS had negative value (-1), but there must be at least one NUMA node, so returning NUMA node zero\n",
            "2022-05-25 20:42:32.550132: I tensorflow/compiler/xla/service/service.cc:168] XLA service 0x23d7800 initialized for platform CUDA (this does not guarantee that XLA will be used). Devices:\n",
            "2022-05-25 20:42:32.550175: I tensorflow/compiler/xla/service/service.cc:176]   StreamExecutor device (0): Tesla T4, Compute Capability 7.5\n",
            "2022-05-25 20:42:32.550440: I tensorflow/stream_executor/cuda/cuda_gpu_executor.cc:981] successful NUMA node read from SysFS had negative value (-1), but there must be at least one NUMA node, so returning NUMA node zero\n",
            "2022-05-25 20:42:32.551280: I tensorflow/core/common_runtime/gpu/gpu_device.cc:1561] Found device 0 with properties: \n",
            "pciBusID: 0000:00:04.0 name: Tesla T4 computeCapability: 7.5\n",
            "coreClock: 1.59GHz coreCount: 40 deviceMemorySize: 14.75GiB deviceMemoryBandwidth: 298.08GiB/s\n",
            "2022-05-25 20:42:32.551428: I tensorflow/stream_executor/platform/default/dso_loader.cc:44] Successfully opened dynamic library libcudart.so.10.1\n",
            "2022-05-25 20:42:32.551473: I tensorflow/stream_executor/platform/default/dso_loader.cc:44] Successfully opened dynamic library libcublas.so.10\n",
            "2022-05-25 20:42:32.551491: I tensorflow/stream_executor/platform/default/dso_loader.cc:44] Successfully opened dynamic library libcufft.so.10\n",
            "2022-05-25 20:42:32.551506: I tensorflow/stream_executor/platform/default/dso_loader.cc:44] Successfully opened dynamic library libcurand.so.10\n",
            "2022-05-25 20:42:32.551532: I tensorflow/stream_executor/platform/default/dso_loader.cc:44] Successfully opened dynamic library libcusolver.so.10\n",
            "2022-05-25 20:42:32.551567: I tensorflow/stream_executor/platform/default/dso_loader.cc:44] Successfully opened dynamic library libcusparse.so.10\n",
            "2022-05-25 20:42:32.551588: I tensorflow/stream_executor/platform/default/dso_loader.cc:44] Successfully opened dynamic library libcudnn.so.7\n",
            "2022-05-25 20:42:32.551661: I tensorflow/stream_executor/cuda/cuda_gpu_executor.cc:981] successful NUMA node read from SysFS had negative value (-1), but there must be at least one NUMA node, so returning NUMA node zero\n",
            "2022-05-25 20:42:32.552457: I tensorflow/stream_executor/cuda/cuda_gpu_executor.cc:981] successful NUMA node read from SysFS had negative value (-1), but there must be at least one NUMA node, so returning NUMA node zero\n",
            "2022-05-25 20:42:32.553145: I tensorflow/core/common_runtime/gpu/gpu_device.cc:1703] Adding visible gpu devices: 0\n",
            "2022-05-25 20:42:32.553291: I tensorflow/stream_executor/platform/default/dso_loader.cc:44] Successfully opened dynamic library libcudart.so.10.1\n",
            "2022-05-25 20:42:32.554983: I tensorflow/core/common_runtime/gpu/gpu_device.cc:1102] Device interconnect StreamExecutor with strength 1 edge matrix:\n",
            "2022-05-25 20:42:32.555010: I tensorflow/core/common_runtime/gpu/gpu_device.cc:1108]      0 \n",
            "2022-05-25 20:42:32.555021: I tensorflow/core/common_runtime/gpu/gpu_device.cc:1121] 0:   N \n",
            "2022-05-25 20:42:32.555149: I tensorflow/stream_executor/cuda/cuda_gpu_executor.cc:981] successful NUMA node read from SysFS had negative value (-1), but there must be at least one NUMA node, so returning NUMA node zero\n",
            "2022-05-25 20:42:32.555934: I tensorflow/stream_executor/cuda/cuda_gpu_executor.cc:981] successful NUMA node read from SysFS had negative value (-1), but there must be at least one NUMA node, so returning NUMA node zero\n",
            "2022-05-25 20:42:32.556734: W tensorflow/core/common_runtime/gpu/gpu_bfc_allocator.cc:39] Overriding allow_growth setting because the TF_FORCE_GPU_ALLOW_GROWTH environment variable is set. Original config value was 0.\n",
            "2022-05-25 20:42:32.556789: I tensorflow/core/common_runtime/gpu/gpu_device.cc:1247] Created TensorFlow device (/job:localhost/replica:0/task:0/device:GPU:0 with 14107 MB memory) -> physical GPU (device: 0, name: Tesla T4, pci bus id: 0000:00:04.0, compute capability: 7.5)\n",
            "WARNING:tensorflow:From /content/GenNet/GenNet_utils/Train_network.py:177: Model.predict_generator (from tensorflow.python.keras.engine.training) is deprecated and will be removed in a future version.\n",
            "Instructions for updating:\n",
            "Please use Model.predict, which supports generators.\n",
            "2022-05-25 20:42:33.485499: I tensorflow/stream_executor/platform/default/dso_loader.cc:44] Successfully opened dynamic library libcublas.so.10\n"
          ]
        }
      ]
    },
    {
      "cell_type": "markdown",
      "source": [
        "For more information and options see the --help function:"
      ],
      "metadata": {
        "id": "cY3wPiBasjRa"
      }
    },
    {
      "cell_type": "code",
      "source": [
        "!python GenNet.py --help"
      ],
      "metadata": {
        "colab": {
          "base_uri": "https://localhost:8080/"
        },
        "id": "rhVxnLJatCqs",
        "outputId": "26f0892c-9964-4546-b605-401092cf003e"
      },
      "execution_count": null,
      "outputs": [
        {
          "output_type": "stream",
          "name": "stdout",
          "text": [
            "usage: GenNet.py [-h] {convert,train,plot,topology} ...\n",
            "\n",
            "GenNet: Interpretable neural networks for phenotype prediction.\n",
            "\n",
            "positional arguments:\n",
            "  {convert,train,plot,topology}\n",
            "                        GenNet main options\n",
            "    convert             Convert genotype data to hdf5\n",
            "    train               Trains the network\n",
            "    plot                Generate plots from a trained network\n",
            "    topology            Create standard topology files\n",
            "\n",
            "optional arguments:\n",
            "  -h, --help            show this help message and exit\n",
            "\n",
            "Check the wiki on github.com/arnovanhilten/gennet/ for more info\n"
          ]
        }
      ]
    },
    {
      "cell_type": "code",
      "source": [
        "!python GenNet.py train --help"
      ],
      "metadata": {
        "colab": {
          "base_uri": "https://localhost:8080/"
        },
        "id": "p8h48F7RtIKZ",
        "outputId": "67ae4343-9212-463d-d676-72c7439c2278"
      },
      "execution_count": null,
      "outputs": [
        {
          "output_type": "stream",
          "name": "stdout",
          "text": [
            "usage: GenNet.py train [-h] -path PATH -ID ID [-genotype_path GENOTYPE_PATH]\n",
            "                       [-network_name NETWORK_NAME]\n",
            "                       [-problem_type {classification,regression}]\n",
            "                       [-wpc weight positive class] [-lr learning rate]\n",
            "                       [-bs batch size] [-epochs number of epochs] [-L1]\n",
            "                       [-mixed_precision] [-suffix extra_info]\n",
            "                       [-out outfolder]\n",
            "                       [-mask_order mask_order [mask_order ...]]\n",
            "                       [-epoch_size epoch_size] [-patience patience] [-resume]\n",
            "\n",
            "optional arguments:\n",
            "  -h, --help            show this help message and exit\n",
            "  -path PATH            Path to the data. Subject file, npz masks/topology\n",
            "                        and/or genotype.h5\n",
            "  -ID ID                Number of the experiment\n",
            "  -genotype_path GENOTYPE_PATH\n",
            "                        Path to genotype data if the location is not the same\n",
            "                        as given in -path\n",
            "  -network_name NETWORK_NAME\n",
            "                        Name of the network\n",
            "  -problem_type {classification,regression}\n",
            "                        Type of problem, choices are: classification or\n",
            "                        regression\n",
            "  -wpc weight positive class\n",
            "                        Hyperparameter:weight of the positive class\n",
            "  -lr learning rate, --learning_rate learning rate\n",
            "                        Hyperparameter: learning rate of the optimizer\n",
            "  -bs batch size, --batch_size batch size\n",
            "                        Hyperparameter: batch size\n",
            "  -epochs number of epochs\n",
            "                        Hyperparameter: batch size\n",
            "  -L1                   Hyperparameter: value for the L1 regularization\n",
            "                        pentalty similar as in lasso, enforces sparsity\n",
            "  -mixed_precision      Flag for mixed precision to save memory (can reduce\n",
            "                        performance)\n",
            "  -suffix extra_info    Add extra suffix for easier identification of the\n",
            "                        folder\n",
            "  -out outfolder        Use this argument to change the output directory\n",
            "  -mask_order mask_order [mask_order ...]\n",
            "                        Use this to define the order of the mask if they\n",
            "                        should not be ordered by size. list masks by full name\n",
            "                        and in order. (e.g. --mask_order SNP_gene_mask\n",
            "                        mask_gene_local mask_local_mid mask_mid_global)\n",
            "  -epoch_size epoch_size\n",
            "                        Use this argument to shorten an epoch if an epoch\n",
            "                        takes to long.Epoch_size will be the new epoch size.\n",
            "                        Epochs will be shuffled after all data has been seen\n",
            "  -patience patience    Number of epochs with no improvement after which\n",
            "                        training will be stopped.\n",
            "  -resume               Flag for resuming training with existing weights (if\n",
            "                        they exist)\n"
          ]
        }
      ]
    },
    {
      "cell_type": "markdown",
      "source": [
        "Results can be found in the GenNet/results/ folder"
      ],
      "metadata": {
        "id": "XJuogYZc4EvP"
      }
    },
    {
      "cell_type": "markdown",
      "metadata": {
        "id": "UsOd33NDsUD9"
      },
      "source": [
        "# GenNet: from Plink to Prediction "
      ]
    },
    {
      "cell_type": "code",
      "execution_count": null,
      "metadata": {
        "colab": {
          "base_uri": "https://localhost:8080/"
        },
        "id": "g28PZ_bRjg-I",
        "outputId": "1440905c-9a59-4e5b-8483-f12e588b0bc5"
      },
      "outputs": [
        {
          "output_type": "stream",
          "name": "stdout",
          "text": [
            "The folders: probes, genotype and individuals already exist. Data seems already in HASE format. Delete the folders if the files are not converted properly. Continuing with the current files:\n",
            "./examples/A_to_Z/processed_data// <class 'str'>\n",
            "number of files  1\n",
            "\n",
            " merge all files...\n",
            "\r  0% 0/1 [00:00<?, ?it/s]\r100% 1/1 [00:00<00:00, 74.69it/s]\n",
            "merged shape = (100, 14000)\n",
            "probe shape = (100, 6)\n",
            "\n",
            " Impute...\n",
            "14000\n",
            "\r  0% 0/2 [00:00<?, ?it/s]\r100% 2/2 [00:00<00:00, 80.63it/s]\n",
            "WARNING skipped step 4, all variants are used: using ./examples/A_to_Z/processed_data///GenNet_simulation_step3_genotype_no_missing.h5\n",
            "chuncksize = 14000\n",
            "\r  0% 0/2 [00:00<?, ?it/s]\r100% 2/2 [00:00<00:00, 76.68it/s]\n",
            "Completed GenNet_simulation\n",
            "You can delete all other h5 files if genotype.h5 is correct\n"
          ]
        }
      ],
      "source": [
        "!python GenNet.py convert -g ./examples/A_to_Z/plink/ -o ./examples/A_to_Z/processed_data/  -study_name GenNet_simulation -step all"
      ]
    },
    {
      "cell_type": "markdown",
      "source": [
        "Now run Annovar (https://annovar.openbioinformatics.org/en/latest/) or your other favorite annotation tool to gain the biological knowledge (e.g gene annotations) to build your network. For annovar we can obtain the right input format with:"
      ],
      "metadata": {
        "id": "G7nAEmy15M0o"
      }
    },
    {
      "cell_type": "code",
      "source": [
        "!python GenNet.py topology -type create_annovar_input -path ./examples/A_to_Z/processed_data/ -study_name GenNet_simulation -out examples/A_to_Z/processed_data/\n"
      ],
      "metadata": {
        "colab": {
          "base_uri": "https://localhost:8080/"
        },
        "id": "G1mgtUPdX1fa",
        "outputId": "66cfd6fa-86cc-4dca-9a10-8e8a66a528c6"
      },
      "execution_count": null,
      "outputs": [
        {
          "output_type": "stream",
          "name": "stdout",
          "text": [
            "(100, 6)\n",
            "Number of variants (100, 6)\n",
            "\n",
            "\n",
            "Annovar input files ready \n",
            "\n",
            "Install annovar: https://doc-openbio.readthedocs.io/projects/annovar/en/latest/user-guide/download/\n",
            "Navigate to annovar, e.g cd /home/charlesdarwin/annovar/\n",
            "Update annovar:\n",
            " perl annotate_variation.pl -buildver hg19 -downdb -webfrom annovar refGene humandb/\n",
            "Run:\n",
            " perl annotate_variation.pl -geneanno -dbtype refGene -buildver hg19 examples/A_to_Z/processed_data//annovar_input_GenNet_simulation.csv humandb --outfile examples/A_to_Z/processed_data//GenNet_simulation_RefGene\n",
            "\n",
            "\n",
            "After obtaining the Annovar annotations, run topology create_gene_network to get the topology file for the SNPs-gene-output network:\n"
          ]
        }
      ]
    },
    {
      "cell_type": "markdown",
      "source": [
        "Now run the given lines in the folder with annovar:\n",
        "\n",
        "```\n",
        "perl annotate_variation.pl -buildver hg19 -downdb -webfrom annovar refGene humandb/\n",
        "```\n",
        "After updating the obtaining the annotation:\n",
        "```\n",
        " perl annotate_variation.pl -geneanno -dbtype refGene -buildver hg19 examples/A_to_Z/processed_data//annovar_input_GenNet_simulation.csv humandb --outfile examples/A_to_Z/processed_data//GenNet_simulation_RefGene\n",
        "\n",
        "```\n",
        "\n"
      ],
      "metadata": {
        "id": "wDrECG6W52Zv"
      }
    },
    {
      "cell_type": "markdown",
      "source": [
        "For this example the gene annotations from Annovar are already placed in the processed data folder:"
      ],
      "metadata": {
        "id": "TxYDaVcQ5rVP"
      }
    },
    {
      "cell_type": "code",
      "source": [
        "%ls examples/A_to_Z/processed_data/"
      ],
      "metadata": {
        "colab": {
          "base_uri": "https://localhost:8080/"
        },
        "id": "IzTpdnbW8PIc",
        "outputId": "241372b3-753d-4b74-c82b-8e93b2a3f0c9"
      },
      "execution_count": null,
      "outputs": [
        {
          "output_type": "stream",
          "name": "stdout",
          "text": [
            "annovar_input_GenNet_simulation.csv                \u001b[0m\u001b[01;34mgenotype\u001b[0m/\n",
            "gene_network_description.csv                       genotype.h5\n",
            "GenNet_simulation_RefGene.exonic_variant_function  \u001b[01;34mindividuals\u001b[0m/\n",
            "GenNet_simulation_RefGene.variant_function         \u001b[01;34mprobes\u001b[0m/\n",
            "GenNet_simulation_std.npy                          SNP_gene_mask.npz\n",
            "GenNet_simulation_step2_merged_genotype.h5         topology.csv\n",
            "GenNet_simulation_step3_genotype_no_missing.h5\n"
          ]
        }
      ]
    },
    {
      "cell_type": "code",
      "source": [
        "!python GenNet.py topology -type create_gene_network -path examples/A_to_Z/processed_data/ -out examples/A_to_Z/processed_data/ -study_name GenNet_simulation\n"
      ],
      "metadata": {
        "colab": {
          "base_uri": "https://localhost:8080/"
        },
        "id": "CR6bqgo7Vk5l",
        "outputId": "23a32584-232f-46ee-c87a-5dffdacff8ed"
      },
      "execution_count": null,
      "outputs": [
        {
          "output_type": "stream",
          "name": "stdout",
          "text": [
            "GenNet_simulation\n",
            "99\n",
            "Topology file saved: examples/A_to_Z/processed_data///topology.csv\n",
            "Alternatively you can choose to use the .npz mask (building blocks for deeper networks) examples/A_to_Z/processed_data///SNP_gene_mask The mask has shape: (100, 10)\n"
          ]
        }
      ]
    },
    {
      "cell_type": "code",
      "source": [
        "## move files to runfolder"
      ],
      "metadata": {
        "id": "_OTPJsMpUtPY"
      },
      "execution_count": null,
      "outputs": []
    },
    {
      "cell_type": "code",
      "source": [
        ""
      ],
      "metadata": {
        "id": "S6B-dCIO-1mf"
      },
      "execution_count": null,
      "outputs": []
    },
    {
      "cell_type": "code",
      "source": [
        "!python GenNet.py train -path examples/A_to_Z/run_folder/ -ID 100001"
      ],
      "metadata": {
        "colab": {
          "base_uri": "https://localhost:8080/"
        },
        "id": "PW7TMQKMUtSC",
        "outputId": "3f3277cc-e759-49c3-cbcb-b4660c6ce0ea"
      },
      "execution_count": null,
      "outputs": [
        {
          "output_type": "stream",
          "name": "stdout",
          "text": [
            "number of covariates: 0\n",
            "Covariate columns found: []\n",
            "mode is classification\n",
            "weight_possitive_class 1\n",
            "weight_possitive_class 1\n",
            "jobid =  100001\n",
            "folder = GenNet_experiment_100001\n",
            "batchsize = 32\n",
            "lr = 0.001\n",
            "Creating networks from npz masks\n",
            "regression False\n",
            "2022-05-25 20:43:01.898365: I tensorflow/stream_executor/platform/default/dso_loader.cc:44] Successfully opened dynamic library libcuda.so.1\n",
            "2022-05-25 20:43:01.927048: I tensorflow/stream_executor/cuda/cuda_gpu_executor.cc:981] successful NUMA node read from SysFS had negative value (-1), but there must be at least one NUMA node, so returning NUMA node zero\n",
            "2022-05-25 20:43:01.927658: I tensorflow/core/common_runtime/gpu/gpu_device.cc:1561] Found device 0 with properties: \n",
            "pciBusID: 0000:00:04.0 name: Tesla T4 computeCapability: 7.5\n",
            "coreClock: 1.59GHz coreCount: 40 deviceMemorySize: 14.75GiB deviceMemoryBandwidth: 298.08GiB/s\n",
            "2022-05-25 20:43:01.927965: I tensorflow/stream_executor/platform/default/dso_loader.cc:44] Successfully opened dynamic library libcudart.so.10.1\n",
            "2022-05-25 20:43:01.929464: I tensorflow/stream_executor/platform/default/dso_loader.cc:44] Successfully opened dynamic library libcublas.so.10\n",
            "2022-05-25 20:43:01.929547: I tensorflow/stream_executor/platform/default/dso_loader.cc:44] Successfully opened dynamic library libcufft.so.10\n",
            "2022-05-25 20:43:01.929601: I tensorflow/stream_executor/platform/default/dso_loader.cc:44] Successfully opened dynamic library libcurand.so.10\n",
            "2022-05-25 20:43:01.931555: I tensorflow/stream_executor/platform/default/dso_loader.cc:44] Successfully opened dynamic library libcusolver.so.10\n",
            "2022-05-25 20:43:01.932686: I tensorflow/stream_executor/platform/default/dso_loader.cc:44] Successfully opened dynamic library libcusparse.so.10\n",
            "2022-05-25 20:43:01.936124: I tensorflow/stream_executor/platform/default/dso_loader.cc:44] Successfully opened dynamic library libcudnn.so.7\n",
            "2022-05-25 20:43:01.936233: I tensorflow/stream_executor/cuda/cuda_gpu_executor.cc:981] successful NUMA node read from SysFS had negative value (-1), but there must be at least one NUMA node, so returning NUMA node zero\n",
            "2022-05-25 20:43:01.936805: I tensorflow/stream_executor/cuda/cuda_gpu_executor.cc:981] successful NUMA node read from SysFS had negative value (-1), but there must be at least one NUMA node, so returning NUMA node zero\n",
            "2022-05-25 20:43:01.937325: I tensorflow/core/common_runtime/gpu/gpu_device.cc:1703] Adding visible gpu devices: 0\n",
            "2022-05-25 20:43:01.937565: I tensorflow/core/platform/cpu_feature_guard.cc:143] Your CPU supports instructions that this TensorFlow binary was not compiled to use: AVX2 FMA\n",
            "2022-05-25 20:43:01.942022: I tensorflow/core/platform/profile_utils/cpu_utils.cc:102] CPU Frequency: 2199995000 Hz\n",
            "2022-05-25 20:43:01.942318: I tensorflow/compiler/xla/service/service.cc:168] XLA service 0x21ed640 initialized for platform Host (this does not guarantee that XLA will be used). Devices:\n",
            "2022-05-25 20:43:01.942352: I tensorflow/compiler/xla/service/service.cc:176]   StreamExecutor device (0): Host, Default Version\n",
            "2022-05-25 20:43:02.144600: I tensorflow/stream_executor/cuda/cuda_gpu_executor.cc:981] successful NUMA node read from SysFS had negative value (-1), but there must be at least one NUMA node, so returning NUMA node zero\n",
            "2022-05-25 20:43:02.145266: I tensorflow/compiler/xla/service/service.cc:168] XLA service 0x21ed800 initialized for platform CUDA (this does not guarantee that XLA will be used). Devices:\n",
            "2022-05-25 20:43:02.145297: I tensorflow/compiler/xla/service/service.cc:176]   StreamExecutor device (0): Tesla T4, Compute Capability 7.5\n",
            "2022-05-25 20:43:02.145483: I tensorflow/stream_executor/cuda/cuda_gpu_executor.cc:981] successful NUMA node read from SysFS had negative value (-1), but there must be at least one NUMA node, so returning NUMA node zero\n",
            "2022-05-25 20:43:02.146017: I tensorflow/core/common_runtime/gpu/gpu_device.cc:1561] Found device 0 with properties: \n",
            "pciBusID: 0000:00:04.0 name: Tesla T4 computeCapability: 7.5\n",
            "coreClock: 1.59GHz coreCount: 40 deviceMemorySize: 14.75GiB deviceMemoryBandwidth: 298.08GiB/s\n",
            "2022-05-25 20:43:02.146122: I tensorflow/stream_executor/platform/default/dso_loader.cc:44] Successfully opened dynamic library libcudart.so.10.1\n",
            "2022-05-25 20:43:02.146157: I tensorflow/stream_executor/platform/default/dso_loader.cc:44] Successfully opened dynamic library libcublas.so.10\n",
            "2022-05-25 20:43:02.146177: I tensorflow/stream_executor/platform/default/dso_loader.cc:44] Successfully opened dynamic library libcufft.so.10\n",
            "2022-05-25 20:43:02.146196: I tensorflow/stream_executor/platform/default/dso_loader.cc:44] Successfully opened dynamic library libcurand.so.10\n",
            "2022-05-25 20:43:02.146234: I tensorflow/stream_executor/platform/default/dso_loader.cc:44] Successfully opened dynamic library libcusolver.so.10\n",
            "2022-05-25 20:43:02.146262: I tensorflow/stream_executor/platform/default/dso_loader.cc:44] Successfully opened dynamic library libcusparse.so.10\n",
            "2022-05-25 20:43:02.146291: I tensorflow/stream_executor/platform/default/dso_loader.cc:44] Successfully opened dynamic library libcudnn.so.7\n",
            "2022-05-25 20:43:02.146360: I tensorflow/stream_executor/cuda/cuda_gpu_executor.cc:981] successful NUMA node read from SysFS had negative value (-1), but there must be at least one NUMA node, so returning NUMA node zero\n",
            "2022-05-25 20:43:02.146901: I tensorflow/stream_executor/cuda/cuda_gpu_executor.cc:981] successful NUMA node read from SysFS had negative value (-1), but there must be at least one NUMA node, so returning NUMA node zero\n",
            "2022-05-25 20:43:02.147413: I tensorflow/core/common_runtime/gpu/gpu_device.cc:1703] Adding visible gpu devices: 0\n",
            "2022-05-25 20:43:02.147522: I tensorflow/stream_executor/platform/default/dso_loader.cc:44] Successfully opened dynamic library libcudart.so.10.1\n",
            "2022-05-25 20:43:02.148902: I tensorflow/core/common_runtime/gpu/gpu_device.cc:1102] Device interconnect StreamExecutor with strength 1 edge matrix:\n",
            "2022-05-25 20:43:02.148934: I tensorflow/core/common_runtime/gpu/gpu_device.cc:1108]      0 \n",
            "2022-05-25 20:43:02.148944: I tensorflow/core/common_runtime/gpu/gpu_device.cc:1121] 0:   N \n",
            "2022-05-25 20:43:02.149052: I tensorflow/stream_executor/cuda/cuda_gpu_executor.cc:981] successful NUMA node read from SysFS had negative value (-1), but there must be at least one NUMA node, so returning NUMA node zero\n",
            "2022-05-25 20:43:02.149717: I tensorflow/stream_executor/cuda/cuda_gpu_executor.cc:981] successful NUMA node read from SysFS had negative value (-1), but there must be at least one NUMA node, so returning NUMA node zero\n",
            "2022-05-25 20:43:02.150305: W tensorflow/core/common_runtime/gpu/gpu_bfc_allocator.cc:39] Overriding allow_growth setting because the TF_FORCE_GPU_ALLOW_GROWTH environment variable is set. Original config value was 0.\n",
            "2022-05-25 20:43:02.150350: I tensorflow/core/common_runtime/gpu/gpu_device.cc:1247] Created TensorFlow device (/job:localhost/replica:0/task:0/device:GPU:0 with 14107 MB memory) -> physical GPU (device: 0, name: Tesla T4, pci bus id: 0000:00:04.0, compute capability: 7.5)\n",
            "Model: \"model\"\n",
            "__________________________________________________________________________________________________\n",
            "Layer (type)                    Output Shape         Param #     Connected to                     \n",
            "==================================================================================================\n",
            "input_layer (InputLayer)        [(None, 100)]        0                                            \n",
            "__________________________________________________________________________________________________\n",
            "reshape (Reshape)               (None, 100, 1)       0           input_layer[0][0]                \n",
            "__________________________________________________________________________________________________\n",
            "LocallyDirected_0 (LocallyDirec (None, 10, 1)        110         reshape[0][0]                    \n",
            "__________________________________________________________________________________________________\n",
            "activation (Activation)         (None, 10, 1)        0           LocallyDirected_0[0][0]          \n",
            "__________________________________________________________________________________________________\n",
            "batch_normalization (BatchNorma (None, 10, 1)        2           activation[0][0]                 \n",
            "__________________________________________________________________________________________________\n",
            "flatten (Flatten)               (None, 10)           0           batch_normalization[0][0]        \n",
            "__________________________________________________________________________________________________\n",
            "output_layer (Dense)            (None, 1)            11          flatten[0][0]                    \n",
            "__________________________________________________________________________________________________\n",
            "inputs_cov (InputLayer)         [(None, 0)]          0                                            \n",
            "__________________________________________________________________________________________________\n",
            "activation_1 (Activation)       (None, 1)            0           output_layer[0][0]               \n",
            "==================================================================================================\n",
            "Total params: 123\n",
            "Trainable params: 121\n",
            "Non-trainable params: 2\n",
            "__________________________________________________________________________________________________\n",
            "None\n",
            "Model already Trained\n",
            "Finished\n",
            "Analysis over the validation set\n",
            "WARNING:tensorflow:From /content/GenNet/GenNet_utils/Train_network.py:177: Model.predict_generator (from tensorflow.python.keras.engine.training) is deprecated and will be removed in a future version.\n",
            "Instructions for updating:\n",
            "Please use Model.predict, which supports generators.\n",
            "2022-05-25 20:43:03.004249: I tensorflow/stream_executor/platform/default/dso_loader.cc:44] Successfully opened dynamic library libcublas.so.10\n",
            "\n",
            "\n",
            "Confusion matrix\n",
            "[[1612    0]\n",
            " [   0  388]]\n",
            "\n",
            "\n",
            "Area under the Curve (AUC) =  1.0\n",
            "Specificity =  1.0\n",
            "Sensitivity =  1.0\n",
            "F_1 score = 1.0\n",
            "Analysis over the test set\n",
            "\n",
            "\n",
            "Confusion matrix\n",
            "[[1592    0]\n",
            " [   0  408]]\n",
            "\n",
            "\n",
            "Area under the Curve (AUC) =  1.0\n",
            "Specificity =  1.0\n",
            "Sensitivity =  1.0\n",
            "F_1 score = 1.0\n"
          ]
        }
      ]
    },
    {
      "cell_type": "code",
      "source": [
        ""
      ],
      "metadata": {
        "id": "9hVSv-14UtU9"
      },
      "execution_count": null,
      "outputs": []
    },
    {
      "cell_type": "code",
      "source": [
        " "
      ],
      "metadata": {
        "id": "QAoUj0l4uwzt"
      },
      "execution_count": null,
      "outputs": []
    }
  ],
  "metadata": {
    "accelerator": "GPU",
    "colab": {
      "collapsed_sections": [],
      "name": "GenNet A to Z",
      "provenance": [],
      "include_colab_link": true
    },
    "kernelspec": {
      "display_name": "Python 3",
      "name": "python3"
    },
    "language_info": {
      "name": "python"
    }
  },
  "nbformat": 4,
  "nbformat_minor": 0
}